{
 "cells": [
  {
   "cell_type": "markdown",
   "metadata": {
    "deletable": true,
    "editable": true
   },
   "source": [
    "# Making a CMD for your Star Cluster\n",
    "\n",
    "This notebook introduces a few commands that you'll need to make the Color Magnitude Diagram for your star cluster. You can also use the cells below to write code for your unit project."
   ]
  },
  {
   "cell_type": "markdown",
   "metadata": {
    "deletable": true,
    "editable": true
   },
   "source": [
    "## .loc[ ] indexing"
   ]
  },
  {
   "cell_type": "markdown",
   "metadata": {
    "deletable": true,
    "editable": true
   },
   "source": [
    "## Finding absolute magnitude"
   ]
  },
  {
   "cell_type": "markdown",
   "metadata": {
    "deletable": true,
    "editable": true
   },
   "source": [
    "You will need to convert \"G\" to absolute magnitude for your CMD.\n",
    "\n",
    "Look in the dataset for distance. Using G and distance, you can calculate absolute magnitude using the following equation:\n",
    "\n",
    "absolute magnitude = G - 5 * log(distance) + 5"
   ]
  },
  {
   "cell_type": "code",
   "execution_count": 2,
   "metadata": {
    "collapsed": true,
    "deletable": true,
    "editable": true
   },
   "outputs": [],
   "source": [
    "import numpy as np\n",
    "import pandas as pd\n",
    "import csv\n",
    "import matplotlib.pyplot as plt\n",
    "import matplotlib.colors as mpl"
   ]
  },
  {
   "cell_type": "code",
   "execution_count": 3,
   "metadata": {
    "collapsed": false,
    "deletable": true,
    "editable": true
   },
   "outputs": [
    {
     "name": "stdout",
     "output_type": "stream",
     "text": [
      "   row_id     tgas_source_id             name         ra        dec  parallax  \\\n",
      "0     659  49809491645958528   TYC 1253-388-1  59.457281  18.562195    7.7395   \n",
      "1    1559  66939848447027584  TYC 1804-1924-1  57.070387  25.214932    7.6087   \n",
      "2    1904  50905051903831680        HIP 18091  58.003444  19.596690    6.7611   \n",
      "3    1929  51452746133437696        HIP 18544  59.507154  20.676596    7.6989   \n",
      "4    1944  51619115986889472  TYC 1261-1630-1  58.370320  20.907178    7.4847   \n",
      "\n",
      "   distance       G       J           rave_obs_id    rv  erv  group_id  \\\n",
      "0   129.949  11.160   9.984                   NaN   NaN  NaN         0   \n",
      "1   132.557   9.066   8.137  20120109_0346p23_140  2.95  1.6         0   \n",
      "2   148.752  10.265   9.267                   NaN   NaN  NaN         0   \n",
      "3   131.839   9.249   8.436                   NaN   NaN  NaN         0   \n",
      "4   134.194  11.553  10.096                   NaN   NaN  NaN         0   \n",
      "\n",
      "   group_size  \n",
      "0         151  \n",
      "1         151  \n",
      "2         151  \n",
      "3         151  \n",
      "4         151  \n"
     ]
    }
   ],
   "source": [
    "df = pd.read_csv(\"data table.csv\")\n",
    "print(df.head())"
   ]
  },
  {
   "cell_type": "code",
   "execution_count": 4,
   "metadata": {
    "collapsed": true,
    "deletable": true,
    "editable": true
   },
   "outputs": [],
   "source": [
    "ap_distance = df[\"distance\"].loc[df[\"group_id\"]==1]\n",
    "ap_j = df[\"J\"].loc[df[\"group_id\"]==1]\n",
    "ap_g = df[\"G\"].loc[df[\"group_id\"]==1]\n",
    "ap_color = ap_g - ap_j"
   ]
  },
  {
   "cell_type": "code",
   "execution_count": 5,
   "metadata": {
    "collapsed": false,
    "deletable": true,
    "editable": true
   },
   "outputs": [
    {
     "name": "stdout",
     "output_type": "stream",
     "text": [
      "151    4.317935\n",
      "152    1.636046\n",
      "153    1.871381\n",
      "154    2.989399\n",
      "155    4.106913\n",
      "dtype: float64\n"
     ]
    }
   ],
   "source": [
    "# You can use this function in your code to find the log of distance:\n",
    "# np.log10()\n",
    "\n",
    "ap_log_distance = np.log10(ap_distance)\n",
    "ap_abm = ap_g - (5*ap_log_distance) + 5\n",
    "print(ap_abm.head())"
   ]
  },
  {
   "cell_type": "markdown",
   "metadata": {
    "deletable": true,
    "editable": true
   },
   "source": [
    "### Your first task is to create a Color Magnitude Diagram for your star cluster\n",
    "You can use as many of the cells below as you need. You can add new cells with the \"+\" button."
   ]
  },
  {
   "cell_type": "code",
   "execution_count": 6,
   "metadata": {
    "collapsed": false,
    "deletable": true,
    "editable": true
   },
   "outputs": [
    {
     "data": {
      "image/png": "[encoded data removed]",
      "text/plain": [
       "<matplotlib.figure.Figure at 0x11a67d780>"
      ]
     },
     "metadata": {},
     "output_type": "display_data"
    }
   ],
   "source": [
    "cm = plt.cm.get_cmap(\"jet\")\n",
    "plt.scatter(ap_color, ap_abm, c=ap_color, s=35, cmap=cm, norm=mpl.LogNorm())\n",
    "plt.xlim(-0.5, 2.5)\n",
    "plt.ylim(-2, 10)\n",
    "plt.xlabel(\"Color (G-J)\")\n",
    "plt.ylabel(\"Absolute Magnitude (G)\")\n",
    "plt.title(\"Color Magnitude Diagram of Stars in Alpha Persei\")\n",
    "plt.gca().invert_yaxis()\n",
    "plt.savefig(\"color magnitude diagram.png\")\n",
    "plt.show()"
   ]
  },
  {
   "cell_type": "markdown",
   "metadata": {
    "deletable": true,
    "editable": true
   },
   "source": [
    "### Coding Challenge 1: Add the sun to your color magnitude diagram"
   ]
  },
  {
   "cell_type": "code",
   "execution_count": 7,
   "metadata": {
    "collapsed": true,
    "deletable": true,
    "editable": true
   },
   "outputs": [],
   "source": [
    "sunJ = 3.64\n",
    "sunG = 5.12\n",
    "sunColor = sunG - sunJ\n",
    "\n",
    "#Use SunG as absolute magnitude"
   ]
  },
  {
   "cell_type": "code",
   "execution_count": 16,
   "metadata": {
    "collapsed": false,
    "deletable": true,
    "editable": true
   },
   "outputs": [
    {
     "data": {
      "image/png": "[encoded data removed]",
      "text/plain": [
       "<matplotlib.figure.Figure at 0x11e4e4588>"
      ]
     },
     "metadata": {},
     "output_type": "display_data"
    }
   ],
   "source": [
    "cm = plt.cm.get_cmap(\"jet\")\n",
    "plt.scatter(ap_color, ap_abm, c=ap_color, s=35, cmap=cm, norm=mpl.LogNorm())\n",
    "plt.scatter(sunColor, sunG, c= 'black', s= 250, marker=\"*\")\n",
    "plt.xlim(-0.5, 2.5)\n",
    "plt.ylim(-2, 10)\n",
    "plt.xlabel(\"Color (G-J)\")\n",
    "plt.ylabel(\"Absolute Magnitude (G)\")\n",
    "plt.title(\"Color Magnitude Diagram of Stars in Alpha Persei\")\n",
    "plt.gca().invert_yaxis()\n",
    "plt.savefig(\"color magnitude diagram with sun.png\")\n",
    "plt.show()"
   ]
  },
  {
   "cell_type": "markdown",
   "metadata": {
    "deletable": true,
    "editable": true
   },
   "source": [
    "### Coding Challenge 2: Add a colormap to your diagram"
   ]
  },
  {
   "cell_type": "code",
   "execution_count": 9,
   "metadata": {
    "collapsed": false,
    "deletable": true,
    "editable": true
   },
   "outputs": [
    {
     "data": {
      "image/png": "[encoded data removed]",
      "text/plain": [
       "<matplotlib.figure.Figure at 0x11aae5cf8>"
      ]
     },
     "metadata": {},
     "output_type": "display_data"
    }
   ],
   "source": [
    "cm = plt.cm.get_cmap(\"bone\")\n",
    "plt.scatter(ap_color, ap_abm, c=ap_color, s=35, cmap=cm, norm=mpl.LogNorm())\n",
    "plt.scatter(sunColor, sunG, c= 'green', s= 250, marker=\"*\")\n",
    "plt.xlim(-0.5, 2.5)\n",
    "plt.ylim(-2, 10)\n",
    "plt.xlabel(\"Color (G-J)\")\n",
    "plt.ylabel(\"Absolute Magnitude (G)\")\n",
    "plt.title(\"Color Magnitude Diagram of Stars in Alpha Persei\")\n",
    "plt.gca().invert_yaxis()\n",
    "plt.savefig(\"color magnitude diagram with star and aesthetically pleasing colormap.png\")\n",
    "plt.show()"
   ]
  },
  {
   "cell_type": "markdown",
   "metadata": {
    "deletable": true,
    "editable": true
   },
   "source": [
    "### Coding Challenge 3: Create histograms for the absolute magnitude and color of your star cluster"
   ]
  },
  {
   "cell_type": "code",
   "execution_count": 27,
   "metadata": {
    "collapsed": false,
    "deletable": true,
    "editable": true
   },
   "outputs": [
    {
     "name": "stdout",
     "output_type": "stream",
     "text": [
      "125\n",
      "125\n"
     ]
    }
   ],
   "source": [
    "len_abm = len(ap_abm)\n",
    "len_color = len(ap_color)\n",
    "print(len_abm)\n",
    "print(len_color)"
   ]
  },
  {
   "cell_type": "code",
   "execution_count": 33,
   "metadata": {
    "collapsed": false
   },
   "outputs": [
    {
     "name": "stdout",
     "output_type": "stream",
     "text": [
      "11.180339887498949\n",
      "11.180339887498949\n"
     ]
    }
   ],
   "source": [
    "print(len_abm**(1/2))\n",
    "print(len_color**(1/2))"
   ]
  },
  {
   "cell_type": "code",
   "execution_count": 11,
   "metadata": {
    "collapsed": false,
    "deletable": true,
    "editable": true
   },
   "outputs": [
    {
     "name": "stdout",
     "output_type": "stream",
     "text": [
      "1.42\n",
      "-0.092\n"
     ]
    }
   ],
   "source": [
    "print(ap_color.max())\n",
    "print(ap_color.min())"
   ]
  },
  {
   "cell_type": "code",
   "execution_count": 42,
   "metadata": {
    "collapsed": false,
    "deletable": true,
    "editable": true
   },
   "outputs": [
    {
     "data": {
      "image/png": "[encoded data removed]",
      "text/plain": [
       "<matplotlib.figure.Figure at 0x11e7a1160>"
      ]
     },
     "metadata": {},
     "output_type": "display_data"
    }
   ],
   "source": [
    "plt.hist(ap_abm, bins = 11, color = 'skyblue')\n",
    "plt.title(\"Absolute Magnitude\")\n",
    "plt.xlabel(\"Absolute Magnitude\")\n",
    "plt.ylabel(\"Number of Stars\")\n",
    "plt.show()"
   ]
  },
  {
   "cell_type": "code",
   "execution_count": 43,
   "metadata": {
    "collapsed": false,
    "deletable": true,
    "editable": true
   },
   "outputs": [
    {
     "name": "stderr",
     "output_type": "stream",
     "text": [
      "/Users/student/Library/Enthought/Canopy/edm/envs/User/lib/python3.5/site-packages/numpy/lib/function_base.py:748: RuntimeWarning: invalid value encountered in greater_equal\n",
      "  keep = (tmp_a >= mn)\n",
      "/Users/student/Library/Enthought/Canopy/edm/envs/User/lib/python3.5/site-packages/numpy/lib/function_base.py:749: RuntimeWarning: invalid value encountered in less_equal\n",
      "  keep &= (tmp_a <= mx)\n"
     ]
    },
    {
     "data": {
      "image/png": "[encoded data removed]",
      "text/plain": [
       "<matplotlib.figure.Figure at 0x11e98d390>"
      ]
     },
     "metadata": {},
     "output_type": "display_data"
    }
   ],
   "source": [
    "plt.hist(ap_color, bins = 11, range=(ap_color.min(), ap_color.max()), color ='rosybrown')\n",
    "plt.title(\"Color of Stars\")\n",
    "plt.ylabel(\"Number of Stars\")\n",
    "plt.xlabel(\"Color\")\n",
    "plt.show()"
   ]
  },
  {
   "cell_type": "code",
   "execution_count": null,
   "metadata": {
    "collapsed": true,
    "deletable": true,
    "editable": true
   },
   "outputs": [],
   "source": []
  }
 ],
 "metadata": {
  "kernelspec": {
   "display_name": "Python 3",
   "language": "python",
   "name": "python3"
  },
  "language_info": {
   "codemirror_mode": {
    "name": "ipython",
    "version": 3
   },
   "file_extension": ".py",
   "mimetype": "text/x-python",
   "name": "python",
   "nbconvert_exporter": "python",
   "pygments_lexer": "ipython3",
   "version": "3.5.2"
  }
 },
 "nbformat": 4,
 "nbformat_minor": 2
}
