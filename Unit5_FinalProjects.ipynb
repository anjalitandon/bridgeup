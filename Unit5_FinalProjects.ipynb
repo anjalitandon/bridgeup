{
 "cells": [
  {
   "cell_type": "markdown",
   "metadata": {
    "deletable": true,
    "editable": true
   },
   "source": [
    "# Final Projects: Calculating evolutionary distance\n",
    "\n",
    "In this notebook you will compare the amino acid sequence of hemoglobin alpha from 3 different species to find out which two are most closely related."
   ]
  },
  {
   "cell_type": "markdown",
   "metadata": {
    "deletable": true,
    "editable": true
   },
   "source": [
    "our hypothesis: boar and hippo are more closely related than the minke whale due to morphology and historical+current inhabitant location"
   ]
  },
  {
   "cell_type": "markdown",
   "metadata": {
    "deletable": true,
    "editable": true
   },
   "source": [
    "You'll need to copy and paste the function from last class that finds the number of differences in two sequences:"
   ]
  },
  {
   "cell_type": "code",
   "execution_count": 4,
   "metadata": {
    "collapsed": true,
    "deletable": true,
    "editable": true
   },
   "outputs": [],
   "source": [
    "def diffseq(sequence1, sequence2):\n",
    "    differences = 0\n",
    "    for item, aa in enumerate(sequence1):\n",
    "        if sequence2[item] != aa:\n",
    "            differences += 1\n",
    "    return differences"
   ]
  },
  {
   "cell_type": "markdown",
   "metadata": {
    "deletable": true,
    "editable": true
   },
   "source": [
    "In order to compare the different amino acid sequences, we need to open the files and read the sequences into new variables:"
   ]
  },
  {
   "cell_type": "code",
   "execution_count": 5,
   "metadata": {
    "collapsed": true,
    "deletable": true,
    "editable": true
   },
   "outputs": [],
   "source": [
    "whale = open(\"1_minke_whale_CSN2_DNA.txt\").read()\n",
    "boar = open(\"1_boar_CSN2_DNA.txt\").read()\n",
    "hippo = open(\"1_hippo_CSN2_DNA.txt\").read()"
   ]
  },
  {
   "cell_type": "markdown",
   "metadata": {
    "deletable": true,
    "editable": true
   },
   "source": [
    "Decide as a group whether you want to compare DNA or protein sequences for your species. What are the pros and cons of each?"
   ]
  },
  {
   "cell_type": "code",
   "execution_count": 7,
   "metadata": {
    "collapsed": false,
    "deletable": true,
    "editable": true
   },
   "outputs": [],
   "source": [
    "# If you choose to use the transcribe and translate functions, you can copy and paste them here\n",
    "# DNA sequences"
   ]
  },
  {
   "cell_type": "markdown",
   "metadata": {
    "deletable": true,
    "editable": true
   },
   "source": [
    "Now call the number of differences function 3 times to compare all three of your species' sequences."
   ]
  },
  {
   "cell_type": "code",
   "execution_count": 8,
   "metadata": {
    "collapsed": false,
    "deletable": true,
    "editable": true
   },
   "outputs": [
    {
     "data": {
      "text/plain": [
       "204"
      ]
     },
     "execution_count": 8,
     "metadata": {},
     "output_type": "execute_result"
    }
   ],
   "source": [
    "diffseq(whale, boar)"
   ]
  },
  {
   "cell_type": "code",
   "execution_count": 9,
   "metadata": {
    "collapsed": false,
    "deletable": true,
    "editable": true
   },
   "outputs": [
    {
     "data": {
      "text/plain": [
       "66"
      ]
     },
     "execution_count": 9,
     "metadata": {},
     "output_type": "execute_result"
    }
   ],
   "source": [
    "diffseq(whale, hippo)"
   ]
  },
  {
   "cell_type": "code",
   "execution_count": 10,
   "metadata": {
    "collapsed": false,
    "deletable": true,
    "editable": true
   },
   "outputs": [
    {
     "data": {
      "text/plain": [
       "202"
      ]
     },
     "execution_count": 10,
     "metadata": {},
     "output_type": "execute_result"
    }
   ],
   "source": [
    "diffseq(hippo, boar)"
   ]
  },
  {
   "cell_type": "markdown",
   "metadata": {
    "deletable": true,
    "editable": true
   },
   "source": [
    "What can you conclude based on the number of differences between each pair of species?\n",
    "\n",
    "Next, create a function that returns the percent difference between sequences and call it for your three comparisons:"
   ]
  },
  {
   "cell_type": "code",
   "execution_count": 11,
   "metadata": {
    "collapsed": false,
    "deletable": true,
    "editable": true
   },
   "outputs": [
    {
     "data": {
      "text/plain": [
       "282"
      ]
     },
     "execution_count": 11,
     "metadata": {},
     "output_type": "execute_result"
    }
   ],
   "source": [
    "len(hippo)\n",
    "len(boar)\n",
    "len(whale)"
   ]
  },
  {
   "cell_type": "code",
   "execution_count": 12,
   "metadata": {
    "collapsed": false,
    "deletable": true,
    "editable": true
   },
   "outputs": [],
   "source": [
    "dnastrand = 282\n",
    "def percentFunc(sequence1, sequence2):\n",
    "    percent = 0.0\n",
    "    for base, dna in enumerate(sequence1):\n",
    "        if sequence2[base] != dna:\n",
    "            percent += 1.0 / dnastrand\n",
    "    return percent * 100"
   ]
  },
  {
   "cell_type": "code",
   "execution_count": 13,
   "metadata": {
    "collapsed": false,
    "deletable": true,
    "editable": true
   },
   "outputs": [
    {
     "name": "stdout",
     "output_type": "stream",
     "text": [
      "71.63120567375861\n"
     ]
    }
   ],
   "source": [
    "hippo_boar_diff = percentFunc(hippo, boar)\n",
    "print(hippo_boar_diff)"
   ]
  },
  {
   "cell_type": "code",
   "execution_count": 14,
   "metadata": {
    "collapsed": false,
    "deletable": true,
    "editable": true
   },
   "outputs": [
    {
     "name": "stdout",
     "output_type": "stream",
     "text": [
      "23.40425531914896\n"
     ]
    }
   ],
   "source": [
    "hippo_whale_diff = percentFunc(hippo, whale)\n",
    "print(hippo_whale_diff)"
   ]
  },
  {
   "cell_type": "code",
   "execution_count": 15,
   "metadata": {
    "collapsed": false,
    "deletable": true,
    "editable": true
   },
   "outputs": [
    {
     "name": "stdout",
     "output_type": "stream",
     "text": [
      "72.34042553191463\n"
     ]
    }
   ],
   "source": [
    "boar_whale_diff = percentFunc(boar, whale)\n",
    "print(boar_whale_diff)"
   ]
  },
  {
   "cell_type": "markdown",
   "metadata": {
    "deletable": true,
    "editable": true
   },
   "source": [
    "Let's visualize these results! Choose a graph type that you think will communicate your conclusions effectively and create it using matplotlib:"
   ]
  },
  {
   "cell_type": "code",
   "execution_count": 16,
   "metadata": {
    "collapsed": false,
    "deletable": true,
    "editable": true
   },
   "outputs": [],
   "source": [
    "import matplotlib.pyplot as plt"
   ]
  },
  {
   "cell_type": "code",
   "execution_count": 17,
   "metadata": {
    "collapsed": false,
    "deletable": true,
    "editable": true
   },
   "outputs": [
    {
     "data": {
      "image/png": "[encoded data removed]",
      "text/plain": [
       "<matplotlib.figure.Figure at 0x118ab2278>"
      ]
     },
     "metadata": {},
     "output_type": "display_data"
    }
   ],
   "source": [
    "# hippo and boar\n",
    "h_b = [72, 28] # 72 + 28 = 100 percent\n",
    "colors = [\"skyblue\", \"lightgreen\"]\n",
    "explode = [0.05, 0.05]\n",
    "labels = [\"Difference in DNA\", \"Similarity in DNA\"]\n",
    "plt.pie(h_b, labels = labels, autopct='%.0f%%', colors = colors, explode = explode, shadow = True)\n",
    "plt.title(\"Differences + Similarities in DNA of Hippo and Boar\")\n",
    "plt.show()"
   ]
  },
  {
   "cell_type": "code",
   "execution_count": 18,
   "metadata": {
    "collapsed": false,
    "deletable": true,
    "editable": true
   },
   "outputs": [
    {
     "data": {
      "image/png": "[encoded data removed]",
      "text/plain": [
       "<matplotlib.figure.Figure at 0x118ae7a58>"
      ]
     },
     "metadata": {},
     "output_type": "display_data"
    }
   ],
   "source": [
    "# hippo and whale\n",
    "h_w = [23, 77]\n",
    "colors = [\"skyblue\", \"lightgreen\"]\n",
    "explode = [0.05, 0.05]\n",
    "labels = [\"Difference in DNA\", \"Similarity in DNA\"]\n",
    "plt.pie(h_w, labels = labels, autopct='%.0f%%', colors = colors, explode = explode, shadow = True)\n",
    "plt.title(\"Differences + Similarities in DNA of Hippo and Whale\")\n",
    "plt.show()"
   ]
  },
  {
   "cell_type": "code",
   "execution_count": 19,
   "metadata": {
    "collapsed": false,
    "deletable": true,
    "editable": true
   },
   "outputs": [
    {
     "data": {
      "image/png": "[encoded data removed]",
      "text/plain": [
       "<matplotlib.figure.Figure at 0x11bf59828>"
      ]
     },
     "metadata": {},
     "output_type": "display_data"
    }
   ],
   "source": [
    "# boar and whale\n",
    "b_w = [72, 28]\n",
    "colors = [\"skyblue\", \"lightgreen\"]\n",
    "explode = [0.05, 0.05]\n",
    "labels = [\"Difference in DNA\", \"Similarity in DNA\"]\n",
    "plt.pie(b_w, labels = labels, autopct='%.0f%%', colors = colors, explode = explode, shadow = True)\n",
    "plt.title(\"Differences + Similarities in DNA of Boar and Whale\")\n",
    "plt.show()"
   ]
  },
  {
   "cell_type": "code",
   "execution_count": 20,
   "metadata": {
    "collapsed": false,
    "deletable": true,
    "editable": true
   },
   "outputs": [
    {
     "data": {
      "image/png": "[encoded data removed]",
      "text/plain": [
       "<matplotlib.figure.Figure at 0x11c055470>"
      ]
     },
     "metadata": {},
     "output_type": "display_data"
    }
   ],
   "source": [
    "plt.bar(1, boar_whale_diff, color = \"pink\", edgecolor = \"black\", label = \"boar vs whale\")\n",
    "plt.bar(2, hippo_whale_diff, color = \"lavender\", edgecolor = \"black\", label = \"hippo vs whale\")\n",
    "plt.bar(3, hippo_boar_diff, color = \"skyblue\", edgecolor = \"black\", label = \"hippo vs boar\")\n",
    "plt.ylabel(\"% diff between each pair of animals\")\n",
    "plt.legend()\n",
    "plt.title(\"Difference in DNA Sequences for Different Animals\")\n",
    "plt.show()"
   ]
  },
  {
   "cell_type": "markdown",
   "metadata": {
    "deletable": true,
    "editable": true
   },
   "source": [
    "## Coding Challenge\n",
    "If you finish your project and want to try a challenge, come up with a hypothesis about which of the following species are most closely related to humans (carp, chicken, chimp, dog, eel, elephant, frog, gorilla, macaque monkey, mouse, orangutan, pig). Write out a ranked list with the species you think is most related to humans at the top.\n",
    "\n",
    "Human Similarity List:\n",
    "1. chimp\n",
    "2. gorilla\n",
    "3. chicken\n",
    "\n",
    "Then calculate the percent difference between the hemoglobin amino acid sequences of humans and each species to find out how close you came to the right ranking!"
   ]
  },
  {
   "cell_type": "code",
   "execution_count": 21,
   "metadata": {
    "collapsed": false,
    "deletable": true,
    "editable": true
   },
   "outputs": [],
   "source": [
    "carp = open(\"Carp_hemoglobin.txt\").read()\n",
    "chicken = open(\"Chicken_hemoglobin.txt\").read()\n",
    "chimp = open(\"Chimp_hemoglobin.txt\").read()\n",
    "dog = open(\"Dog_hemoglobin.txt\").read()\n",
    "eel = open(\"Eel_hemoglobin.txt\").read()\n",
    "macaque = open(\"Macaque_hemoglobin.txt\").read()\n",
    "human = open(\"Human_hemoglobin.txt\").read()\n",
    "gorilla = open(\"Gorilla_hemoglobin.txt\").read()\n",
    "pig = open(\"Pig_hemoglobin.txt\").read()\n",
    "elephant = open(\"Elephant_hemoglobin.txt\").read()\n",
    "frog = open(\"Frog_hemoglobin.txt\").read()\n",
    "mouse = open(\"Mouse_hemoglobin.txt\").read()\n",
    "orangutan = open(\"Orangutan_hemoglobin.txt\").read()"
   ]
  },
  {
   "cell_type": "code",
   "execution_count": 34,
   "metadata": {
    "collapsed": false,
    "deletable": true,
    "editable": true
   },
   "outputs": [
    {
     "name": "stdout",
     "output_type": "stream",
     "text": [
      "39.36170212765962\n",
      "carp\n"
     ]
    }
   ],
   "source": [
    "print(percentFunc(human, carp))\n",
    "print(\"carp\")"
   ]
  },
  {
   "cell_type": "code",
   "execution_count": 35,
   "metadata": {
    "collapsed": false,
    "deletable": true,
    "editable": true
   },
   "outputs": [
    {
     "name": "stdout",
     "output_type": "stream",
     "text": [
      "14.893617021276606\n",
      "chicken\n"
     ]
    }
   ],
   "source": [
    "print(percentFunc(human, chicken))\n",
    "print(\"chicken\")"
   ]
  },
  {
   "cell_type": "code",
   "execution_count": 36,
   "metadata": {
    "collapsed": false,
    "deletable": true,
    "editable": true
   },
   "outputs": [
    {
     "name": "stdout",
     "output_type": "stream",
     "text": [
      "0.0\n",
      "chimp\n"
     ]
    }
   ],
   "source": [
    "print(percentFunc(human, chimp))\n",
    "print(\"chimp\")"
   ]
  },
  {
   "cell_type": "code",
   "execution_count": 37,
   "metadata": {
    "collapsed": false,
    "deletable": true,
    "editable": true
   },
   "outputs": [
    {
     "name": "stdout",
     "output_type": "stream",
     "text": [
      "8.156028368794328\n",
      "dog\n"
     ]
    }
   ],
   "source": [
    "print(percentFunc(human, dog))\n",
    "print(\"dog\")"
   ]
  },
  {
   "cell_type": "code",
   "execution_count": 38,
   "metadata": {
    "collapsed": false,
    "deletable": true,
    "editable": true
   },
   "outputs": [
    {
     "name": "stdout",
     "output_type": "stream",
     "text": [
      "40.07092198581565\n",
      "eel\n"
     ]
    }
   ],
   "source": [
    "print(percentFunc(human, eel))\n",
    "print(\"eel\")"
   ]
  },
  {
   "cell_type": "code",
   "execution_count": 39,
   "metadata": {
    "collapsed": false,
    "deletable": true,
    "editable": true
   },
   "outputs": [
    {
     "name": "stdout",
     "output_type": "stream",
     "text": [
      "1.7730496453900706\n",
      "macaque\n"
     ]
    }
   ],
   "source": [
    "print(percentFunc(human, macaque))\n",
    "print(\"macaque\")"
   ]
  },
  {
   "cell_type": "code",
   "execution_count": 40,
   "metadata": {
    "collapsed": false,
    "deletable": true,
    "editable": true
   },
   "outputs": [
    {
     "name": "stdout",
     "output_type": "stream",
     "text": [
      "0.3546099290780142\n",
      "gorilla\n"
     ]
    }
   ],
   "source": [
    "print(percentFunc(human, gorilla))\n",
    "print(\"gorilla\")"
   ]
  },
  {
   "cell_type": "code",
   "execution_count": 41,
   "metadata": {
    "collapsed": false,
    "deletable": true,
    "editable": true
   },
   "outputs": [
    {
     "name": "stdout",
     "output_type": "stream",
     "text": [
      "7.801418439716312\n",
      "pig\n"
     ]
    }
   ],
   "source": [
    "print(percentFunc(human, pig))\n",
    "print(\"pig\")"
   ]
  },
  {
   "cell_type": "code",
   "execution_count": 42,
   "metadata": {
    "collapsed": false,
    "deletable": true,
    "editable": true
   },
   "outputs": [
    {
     "name": "stdout",
     "output_type": "stream",
     "text": [
      "8.510638297872342\n",
      "elephant\n"
     ]
    }
   ],
   "source": [
    "print(percentFunc(human, elephant))\n",
    "print(\"elephant\")"
   ]
  },
  {
   "cell_type": "code",
   "execution_count": 43,
   "metadata": {
    "collapsed": false,
    "deletable": true,
    "editable": true
   },
   "outputs": [
    {
     "name": "stdout",
     "output_type": "stream",
     "text": [
      "21.276595744680872\n",
      "frog\n"
     ]
    }
   ],
   "source": [
    "print(percentFunc(human, frog))\n",
    "print(\"frog\")"
   ]
  },
  {
   "cell_type": "code",
   "execution_count": 44,
   "metadata": {
    "collapsed": false,
    "deletable": true,
    "editable": true
   },
   "outputs": [
    {
     "name": "stdout",
     "output_type": "stream",
     "text": [
      "7.092198581560282\n",
      "mouse\n"
     ]
    }
   ],
   "source": [
    "print(percentFunc(human, mouse))\n",
    "print(\"mouse\")"
   ]
  },
  {
   "cell_type": "code",
   "execution_count": 45,
   "metadata": {
    "collapsed": false,
    "deletable": true,
    "editable": true
   },
   "outputs": [
    {
     "name": "stdout",
     "output_type": "stream",
     "text": [
      "1.0638297872340425\n",
      "orangutan\n"
     ]
    }
   ],
   "source": [
    "print(percentFunc(human, orangutan))\n",
    "print(\"orangutan\")"
   ]
  },
  {
   "cell_type": "code",
   "execution_count": 110,
   "metadata": {
    "collapsed": false
   },
   "outputs": [
    {
     "data": {
      "image/png": "[encoded data removed]",
      "text/plain": [
       "<matplotlib.figure.Figure at 0x11c1f64a8>"
      ]
     },
     "metadata": {},
     "output_type": "display_data"
    }
   ],
   "source": [
    "plt.clf()\n",
    "plt.bar(1, percentFunc(human, orangutan), color = \"thistle\", edgecolor = \"black\", label = \"orangutan\")\n",
    "plt.bar(2, percentFunc(human, mouse), color = \"steelblue\", edgecolor = \"black\", label = \"mouse\")\n",
    "plt.bar(3, percentFunc(human, frog), color = \"slategray\", edgecolor = \"black\", label = \"frog\")\n",
    "plt.bar(4, percentFunc(human, elephant), color = \"royalblue\", edgecolor = \"black\", label = \"elephant\")\n",
    "plt.bar(5, percentFunc(human, pig), color = \"lightpink\", edgecolor = \"black\", label = \"pig\")\n",
    "plt.bar(6, percentFunc(human, gorilla), color = \"palevioletred\", edgecolor = \"black\", label = \"gorilla\")\n",
    "plt.bar(7, percentFunc(human, macaque), color = \"plum\", edgecolor = \"black\", label = \"macaque\")\n",
    "plt.bar(8, percentFunc(human, eel), color = \"powderblue\", edgecolor = \"black\", label = \"eel\")\n",
    "plt.bar(9, percentFunc(human, dog), color = \"palegreen\", edgecolor = \"black\", label = \"dog\")\n",
    "plt.bar(10, percentFunc(human, chimp), color = \"black\", edgecolor = \"black\", label = \"chimp\")\n",
    "plt.bar(11, percentFunc(human, chicken), color = \"lightsteelblue\", edgecolor = \"black\", label = \"chicken\")\n",
    "plt.bar(12, percentFunc(human, carp), color = \"lightcoral\", edgecolor = \"black\", label = \"carp\")\n",
    "plt.bar(13, 0)\n",
    "plt.bar(14, 0)\n",
    "plt.bar(15, 0)\n",
    "plt.bar(16, 0)\n",
    "plt.bar(17, 0)\n",
    "plt.legend(loc = 4)\n",
    "plt.title(\"Human vs Animal DNA % Difference\")\n",
    "plt.ylabel(\"% Difference\")\n",
    "plt.show()"
   ]
  },
  {
   "cell_type": "code",
   "execution_count": null,
   "metadata": {
    "collapsed": true
   },
   "outputs": [],
   "source": []
  }
 ],
 "metadata": {
  "kernelspec": {
   "display_name": "Python 3",
   "language": "python",
   "name": "python3"
  },
  "language_info": {
   "codemirror_mode": {
    "name": "ipython",
    "version": 3
   },
   "file_extension": ".py",
   "mimetype": "text/x-python",
   "name": "python",
   "nbconvert_exporter": "python",
   "pygments_lexer": "ipython3",
   "version": "3.5.2"
  }
 },
 "nbformat": 4,
 "nbformat_minor": 2
}
