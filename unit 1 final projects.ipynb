{
 "cells": [
  {
   "cell_type": "markdown",
   "metadata": {
    "deletable": true,
    "editable": true
   },
   "source": [
    "# Analyzing your experimental data\n",
    "\n",
    "Use this Jupyter Notebook to analyze the data from your experiment"
   ]
  },
  {
   "cell_type": "markdown",
   "metadata": {
    "deletable": true,
    "editable": true
   },
   "source": [
    "Put your data into one or more list as relevant for your experiment (one sample, one list; two samples, two lists):"
   ]
  },
  {
   "cell_type": "code",
   "execution_count": 2,
   "metadata": {
    "collapsed": true,
    "deletable": true,
    "editable": true
   },
   "outputs": [],
   "source": [
    "people = [64, 62, 66, 60, 67, 66, 66.5, 63, 66.5, 63.5, 66, 66, 68.5, 60.5, 63.5, 67.5, 65, 63, 61.5]\n",
    "standard = 64"
   ]
  },
  {
   "cell_type": "markdown",
   "metadata": {
    "deletable": true,
    "editable": true
   },
   "source": [
    "Consider how you can loops and/or conditionals to analyze your data. Use the cell below to do so if you think this would be helpful:"
   ]
  },
  {
   "cell_type": "code",
   "execution_count": 3,
   "metadata": {
    "collapsed": false,
    "deletable": true,
    "editable": true
   },
   "outputs": [
    {
     "name": "stdout",
     "output_type": "stream",
     "text": [
      "this person is the average height\n",
      "this person is shorter than the average height\n",
      "this person is taller than the average height\n",
      "this person is shorter than the average height\n",
      "this person is taller than the average height\n",
      "this person is taller than the average height\n",
      "this person is taller than the average height\n",
      "this person is shorter than the average height\n",
      "this person is taller than the average height\n",
      "this person is shorter than the average height\n",
      "this person is taller than the average height\n",
      "this person is taller than the average height\n",
      "this person is taller than the average height\n",
      "this person is shorter than the average height\n",
      "this person is shorter than the average height\n",
      "this person is taller than the average height\n",
      "this person is taller than the average height\n",
      "this person is shorter than the average height\n",
      "this person is shorter than the average height\n"
     ]
    }
   ],
   "source": [
    "for height in people:\n",
    "    if height > standard:\n",
    "        print(\"this person is taller than the average height\")\n",
    "    elif height < standard:\n",
    "        print(\"this person is shorter than the average height\")\n",
    "    else:\n",
    "        print(\"this person is the average height\")"
   ]
  },
  {
   "cell_type": "code",
   "execution_count": 8,
   "metadata": {
    "collapsed": false
   },
   "outputs": [
    {
     "name": "stdout",
     "output_type": "stream",
     "text": [
      "10\n",
      "8\n",
      "1\n"
     ]
    }
   ],
   "source": [
    "empty_tall = []\n",
    "empty_short = []\n",
    "empty_average = []\n",
    "\n",
    "for height in people:\n",
    "    if height > standard:\n",
    "        empty_tall.append(height)\n",
    "    elif height < standard:\n",
    "        empty_short.append(height)\n",
    "    else:\n",
    "        empty_average.append(height)\n",
    "        \n",
    "print(len(empty_tall))\n",
    "print(len(empty_short))\n",
    "print(len(empty_average))"
   ]
  },
  {
   "cell_type": "markdown",
   "metadata": {
    "deletable": true,
    "editable": true
   },
   "source": [
    "Now find the mean of your dataset(s). Hint: You will need to import numpy."
   ]
  },
  {
   "cell_type": "code",
   "execution_count": 10,
   "metadata": {
    "collapsed": false,
    "deletable": true,
    "editable": true
   },
   "outputs": [
    {
     "name": "stdout",
     "output_type": "stream",
     "text": [
      "64.5263157895\n"
     ]
    }
   ],
   "source": [
    "import numpy as np\n",
    "mean = np.mean(people)\n",
    "print(mean)"
   ]
  },
  {
   "cell_type": "markdown",
   "metadata": {
    "deletable": true,
    "editable": true
   },
   "source": [
    "Next, find the standard deviation and variance using the np.std() and np.var() functions."
   ]
  },
  {
   "cell_type": "code",
   "execution_count": 11,
   "metadata": {
    "collapsed": false,
    "deletable": true,
    "editable": true
   },
   "outputs": [
    {
     "name": "stdout",
     "output_type": "stream",
     "text": [
      "2.3701747893\n",
      "5.61772853186\n"
     ]
    }
   ],
   "source": [
    "std = np.std(people)\n",
    "var = np.var(people)\n",
    "print(std)\n",
    "print(var)"
   ]
  },
  {
   "cell_type": "markdown",
   "metadata": {
    "deletable": true,
    "editable": true
   },
   "source": [
    "Now, find your t-value. Use the relevant code below:"
   ]
  },
  {
   "cell_type": "code",
   "execution_count": 14,
   "metadata": {
    "collapsed": false,
    "deletable": true,
    "editable": true
   },
   "outputs": [
    {
     "name": "stdout",
     "output_type": "stream",
     "text": [
      "Ttest_1sampResult(statistic=0.94211143953199306, pvalue=0.35860915568309448)\n"
     ]
    }
   ],
   "source": [
    "#one sample t-test\n",
    "from scipy import stats\n",
    "print(stats.ttest_1samp(people, standard))"
   ]
  },
  {
   "cell_type": "code",
   "execution_count": null,
   "metadata": {
    "collapsed": false,
    "deletable": true,
    "editable": true
   },
   "outputs": [],
   "source": [
    "#two sample t-test\n",
    "from scipy import stats\n",
    "print(stats.ttest_ind(data_list_1, data_list_2))"
   ]
  },
  {
   "cell_type": "markdown",
   "metadata": {
    "deletable": true,
    "editable": true
   },
   "source": [
    "Next, it's time to make a graph that visualizes your results. You can create a histogram for your datasets using matplotlib:"
   ]
  },
  {
   "cell_type": "code",
   "execution_count": 52,
   "metadata": {
    "collapsed": false,
    "deletable": true,
    "editable": true
   },
   "outputs": [
    {
     "data": {
      "image/png": "[encoded data removed]",
      "text/plain": [
       "<matplotlib.figure.Figure at 0x11e96df98>"
      ]
     },
     "metadata": {},
     "output_type": "display_data"
    }
   ],
   "source": [
    "import matplotlib.pyplot as plt\n",
    "\n",
    "# Create a histogram\n",
    "plt.hist(people, 10, range = [60,70], color = 'grey')\n",
    "\n",
    "# Add a title and axis labels\n",
    "plt.suptitle(\"Brown Scholars Average Height vs Universal Average Height\")\n",
    "plt.xlabel(\"Height in Inches\")\n",
    "plt.ylabel(\"Number of Girls\")\n",
    "plt.axvline(x=64, color = 'aquamarine')\n",
    "\n",
    "# Show the graph\n",
    "plt.show()\n",
    "\n",
    "# Save the graph\n",
    "plt.savefig(\"my histogram woah.png\")"
   ]
  },
  {
   "cell_type": "markdown",
   "metadata": {
    "deletable": true,
    "editable": true
   },
   "source": [
    "If you want to make another kind of graph, ask for help!"
   ]
  },
  {
   "cell_type": "code",
   "execution_count": 47,
   "metadata": {
    "collapsed": false
   },
   "outputs": [
    {
     "name": "stdout",
     "output_type": "stream",
     "text": [
      "<class 'list'>\n",
      "<class 'numpy.ndarray'>\n"
     ]
    }
   ],
   "source": [
    "import numpy as np\n",
    "print(type([4,5,6]))\n",
    "x = np.array([4,5,6])\n",
    "print(type(x))"
   ]
  },
  {
   "cell_type": "code",
   "execution_count": null,
   "metadata": {
    "collapsed": true
   },
   "outputs": [],
   "source": []
  }
 ],
 "metadata": {
  "kernelspec": {
   "display_name": "Python 3",
   "language": "python",
   "name": "python3"
  },
  "language_info": {
   "codemirror_mode": {
    "name": "ipython",
    "version": 3
   },
   "file_extension": ".py",
   "mimetype": "text/x-python",
   "name": "python",
   "nbconvert_exporter": "python",
   "pygments_lexer": "ipython3",
   "version": "3.5.2"
  }
 },
 "nbformat": 4,
 "nbformat_minor": 2
}
