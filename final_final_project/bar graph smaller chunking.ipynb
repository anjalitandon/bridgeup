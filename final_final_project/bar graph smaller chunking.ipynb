{
 "cells": [
  {
   "cell_type": "code",
   "execution_count": 7,
   "metadata": {
    "collapsed": true,
    "deletable": true,
    "editable": true
   },
   "outputs": [],
   "source": [
    "import pandas as pd\n",
    "import matplotlib.pyplot as plt"
   ]
  },
  {
   "cell_type": "code",
   "execution_count": 8,
   "metadata": {
    "collapsed": true,
    "deletable": true,
    "editable": true
   },
   "outputs": [],
   "source": [
    "df = pd.read_csv(\"nummemdata.csv\")"
   ]
  },
  {
   "cell_type": "code",
   "execution_count": 9,
   "metadata": {
    "collapsed": false,
    "deletable": true,
    "editable": true
   },
   "outputs": [
    {
     "data": {
      "text/html": [
       "<div>\n",
       "<style>\n",
       "    .dataframe thead tr:only-child th {\n",
       "        text-align: right;\n",
       "    }\n",
       "\n",
       "    .dataframe thead th {\n",
       "        text-align: left;\n",
       "    }\n",
       "\n",
       "    .dataframe tbody tr th {\n",
       "        vertical-align: top;\n",
       "    }\n",
       "</style>\n",
       "<table border=\"1\" class=\"dataframe\">\n",
       "  <thead>\n",
       "    <tr style=\"text-align: right;\">\n",
       "      <th></th>\n",
       "      <th>Name</th>\n",
       "      <th>Unchunk #</th>\n",
       "      <th># Correct (UC)</th>\n",
       "      <th>Chunk #</th>\n",
       "      <th># Correct (C)</th>\n",
       "    </tr>\n",
       "  </thead>\n",
       "  <tbody>\n",
       "    <tr>\n",
       "      <th>0</th>\n",
       "      <td>Alexis</td>\n",
       "      <td>19310464424530224615625607504869210</td>\n",
       "      <td>9</td>\n",
       "      <td>[09, 47, 16, 16, 17, 96, 71, 74, 94, 86, 79, 4...</td>\n",
       "      <td>9</td>\n",
       "    </tr>\n",
       "    <tr>\n",
       "      <th>1</th>\n",
       "      <td>Angelica</td>\n",
       "      <td>367490978713288505090307726688850986</td>\n",
       "      <td>2</td>\n",
       "      <td>72 55 82 49 69 31 15 09 03 74 40 58 02 58 93 9...</td>\n",
       "      <td>4</td>\n",
       "    </tr>\n",
       "    <tr>\n",
       "      <th>2</th>\n",
       "      <td>Anjali</td>\n",
       "      <td>711098922118864084845860067937245930</td>\n",
       "      <td>11</td>\n",
       "      <td>06 13 53 66 46 22 16 28 22 57 09 99 29 93 70 8...</td>\n",
       "      <td>9</td>\n",
       "    </tr>\n",
       "    <tr>\n",
       "      <th>3</th>\n",
       "      <td>Ariana</td>\n",
       "      <td>796250220443549497520217691245153068</td>\n",
       "      <td>7</td>\n",
       "      <td>92 27 65 93 49 61 66 29 27 68 37 66 88 84 40 3...</td>\n",
       "      <td>3</td>\n",
       "    </tr>\n",
       "    <tr>\n",
       "      <th>4</th>\n",
       "      <td>Avery</td>\n",
       "      <td>872147553626006227694057883492343668</td>\n",
       "      <td>9</td>\n",
       "      <td>97 25 82 22 64 12 07 85 00 00 46 51 52 65 48 5...</td>\n",
       "      <td>5</td>\n",
       "    </tr>\n",
       "    <tr>\n",
       "      <th>5</th>\n",
       "      <td>Emily</td>\n",
       "      <td>161876915483622331897825898300708957</td>\n",
       "      <td>8</td>\n",
       "      <td>44 97 65 76 25 44 07 67 53 97 79 38 00 05 30 9...</td>\n",
       "      <td>5</td>\n",
       "    </tr>\n",
       "    <tr>\n",
       "      <th>6</th>\n",
       "      <td>Hanora</td>\n",
       "      <td>01365786922856724355572248452620698</td>\n",
       "      <td>7</td>\n",
       "      <td>[39, 74, 87, 62, 03, 50, 62, 96, 97, 50, 45, 7...</td>\n",
       "      <td>5</td>\n",
       "    </tr>\n",
       "    <tr>\n",
       "      <th>7</th>\n",
       "      <td>Indira</td>\n",
       "      <td>29938293322451069239977025588405855</td>\n",
       "      <td>5</td>\n",
       "      <td>45 95 47 87 05 66 34 23 45 01 77 98 54 34 72 0...</td>\n",
       "      <td>6</td>\n",
       "    </tr>\n",
       "    <tr>\n",
       "      <th>8</th>\n",
       "      <td>Kelly</td>\n",
       "      <td>208704946533020415455364122510201043</td>\n",
       "      <td>15</td>\n",
       "      <td>24 26 32 28 23 45 89 50 79 51 21 33 02 96 24 4...</td>\n",
       "      <td>10</td>\n",
       "    </tr>\n",
       "    <tr>\n",
       "      <th>9</th>\n",
       "      <td>Liliann</td>\n",
       "      <td>56942211238769555874835084923808821</td>\n",
       "      <td>6</td>\n",
       "      <td>55 91 08 02 05 11 58 27 68 67 23 92 77 75 70 3...</td>\n",
       "      <td>9</td>\n",
       "    </tr>\n",
       "    <tr>\n",
       "      <th>10</th>\n",
       "      <td>Phincho</td>\n",
       "      <td>29720427905449509723478577839486711</td>\n",
       "      <td>3</td>\n",
       "      <td>[18, 00, 30, 71, 51, 56, 28, 28, 91, 98, 54, 3...</td>\n",
       "      <td>4</td>\n",
       "    </tr>\n",
       "    <tr>\n",
       "      <th>11</th>\n",
       "      <td>Stephanie</td>\n",
       "      <td>95809888355618746617367150767630113</td>\n",
       "      <td>4</td>\n",
       "      <td>[05, 15, 63, 36, 88, 12, 47, 62, 03, 27, 09, 7...</td>\n",
       "      <td>4</td>\n",
       "    </tr>\n",
       "    <tr>\n",
       "      <th>12</th>\n",
       "      <td>Tasluba</td>\n",
       "      <td>44338589097802402886974011800258468</td>\n",
       "      <td>6</td>\n",
       "      <td>47 55 95 64 50 07 88 33 28 07 84 42 83 07 33 3...</td>\n",
       "      <td>5</td>\n",
       "    </tr>\n",
       "    <tr>\n",
       "      <th>13</th>\n",
       "      <td>Ula</td>\n",
       "      <td>410463108418763979871147874491525803</td>\n",
       "      <td>9</td>\n",
       "      <td>35 31 11 69 94 82 40 02 38 30 59 74 49 63 58 9...</td>\n",
       "      <td>6</td>\n",
       "    </tr>\n",
       "    <tr>\n",
       "      <th>14</th>\n",
       "      <td>Umut</td>\n",
       "      <td>49242160483593901541908226294774793</td>\n",
       "      <td>4</td>\n",
       "      <td>[40, 55, 11, 96, 47, 64, 68, 64, 82, 69, 80, 5...</td>\n",
       "      <td>6</td>\n",
       "    </tr>\n",
       "    <tr>\n",
       "      <th>15</th>\n",
       "      <td>Yamile</td>\n",
       "      <td>61252003706009520779231588347721124</td>\n",
       "      <td>8</td>\n",
       "      <td>[52, 09, 63, 23, 77, 58, 19, 78, 19, 71, 09, 0...</td>\n",
       "      <td>8</td>\n",
       "    </tr>\n",
       "    <tr>\n",
       "      <th>16</th>\n",
       "      <td>Yarianny</td>\n",
       "      <td>354789115053402029442585884141360681</td>\n",
       "      <td>4</td>\n",
       "      <td>24 15 66 10 34 75 93 93 17 55 55 66 90 21 78 4...</td>\n",
       "      <td>2</td>\n",
       "    </tr>\n",
       "    <tr>\n",
       "      <th>17</th>\n",
       "      <td>Gabrielle</td>\n",
       "      <td>84603802189645946862035287007156094</td>\n",
       "      <td>8</td>\n",
       "      <td>[31, 90, 53, 57, 23, 18, 73, 78, 44, 54, 65, 7...</td>\n",
       "      <td>6</td>\n",
       "    </tr>\n",
       "  </tbody>\n",
       "</table>\n",
       "</div>"
      ],
      "text/plain": [
       "         Name                             Unchunk #  # Correct (UC)  \\\n",
       "0      Alexis   19310464424530224615625607504869210               9   \n",
       "1    Angelica  367490978713288505090307726688850986               2   \n",
       "2      Anjali  711098922118864084845860067937245930              11   \n",
       "3      Ariana  796250220443549497520217691245153068               7   \n",
       "4       Avery  872147553626006227694057883492343668               9   \n",
       "5       Emily  161876915483622331897825898300708957               8   \n",
       "6      Hanora   01365786922856724355572248452620698               7   \n",
       "7      Indira   29938293322451069239977025588405855               5   \n",
       "8       Kelly  208704946533020415455364122510201043              15   \n",
       "9     Liliann   56942211238769555874835084923808821               6   \n",
       "10    Phincho   29720427905449509723478577839486711               3   \n",
       "11  Stephanie   95809888355618746617367150767630113               4   \n",
       "12    Tasluba   44338589097802402886974011800258468               6   \n",
       "13        Ula  410463108418763979871147874491525803               9   \n",
       "14       Umut   49242160483593901541908226294774793               4   \n",
       "15     Yamile   61252003706009520779231588347721124               8   \n",
       "16   Yarianny  354789115053402029442585884141360681               4   \n",
       "17  Gabrielle   84603802189645946862035287007156094               8   \n",
       "\n",
       "                                              Chunk #  # Correct (C)  \n",
       "0   [09, 47, 16, 16, 17, 96, 71, 74, 94, 86, 79, 4...              9  \n",
       "1   72 55 82 49 69 31 15 09 03 74 40 58 02 58 93 9...              4  \n",
       "2   06 13 53 66 46 22 16 28 22 57 09 99 29 93 70 8...              9  \n",
       "3   92 27 65 93 49 61 66 29 27 68 37 66 88 84 40 3...              3  \n",
       "4   97 25 82 22 64 12 07 85 00 00 46 51 52 65 48 5...              5  \n",
       "5   44 97 65 76 25 44 07 67 53 97 79 38 00 05 30 9...              5  \n",
       "6   [39, 74, 87, 62, 03, 50, 62, 96, 97, 50, 45, 7...              5  \n",
       "7   45 95 47 87 05 66 34 23 45 01 77 98 54 34 72 0...              6  \n",
       "8   24 26 32 28 23 45 89 50 79 51 21 33 02 96 24 4...             10  \n",
       "9   55 91 08 02 05 11 58 27 68 67 23 92 77 75 70 3...              9  \n",
       "10  [18, 00, 30, 71, 51, 56, 28, 28, 91, 98, 54, 3...              4  \n",
       "11  [05, 15, 63, 36, 88, 12, 47, 62, 03, 27, 09, 7...              4  \n",
       "12  47 55 95 64 50 07 88 33 28 07 84 42 83 07 33 3...              5  \n",
       "13  35 31 11 69 94 82 40 02 38 30 59 74 49 63 58 9...              6  \n",
       "14  [40, 55, 11, 96, 47, 64, 68, 64, 82, 69, 80, 5...              6  \n",
       "15  [52, 09, 63, 23, 77, 58, 19, 78, 19, 71, 09, 0...              8  \n",
       "16  24 15 66 10 34 75 93 93 17 55 55 66 90 21 78 4...              2  \n",
       "17  [31, 90, 53, 57, 23, 18, 73, 78, 44, 54, 65, 7...              6  "
      ]
     },
     "execution_count": 9,
     "metadata": {},
     "output_type": "execute_result"
    }
   ],
   "source": [
    "df.head(20)"
   ]
  },
  {
   "cell_type": "code",
   "execution_count": 10,
   "metadata": {
    "collapsed": false,
    "deletable": true,
    "editable": true
   },
   "outputs": [],
   "source": [
    "unchunk = df[\"# Correct (UC)\"]\n",
    "chunk = df[\"# Correct (C)\"]"
   ]
  },
  {
   "cell_type": "code",
   "execution_count": 11,
   "metadata": {
    "collapsed": true,
    "deletable": true,
    "editable": true
   },
   "outputs": [],
   "source": [
    "unchunk_avg = unchunk.mean()\n",
    "chunk_avg = chunk.mean()"
   ]
  },
  {
   "cell_type": "code",
   "execution_count": 13,
   "metadata": {
    "collapsed": false,
    "deletable": true,
    "editable": true
   },
   "outputs": [
    {
     "data": {
      "image/png": "[encoded data removed]",
      "text/plain": [
       "<matplotlib.figure.Figure at 0x11d8eb860>"
      ]
     },
     "metadata": {},
     "output_type": "display_data"
    }
   ],
   "source": [
    "plt.bar(1, unchunk_avg, color = \"skyblue\")\n",
    "plt.bar(2, chunk_avg, color = \"indigo\")\n",
    "plt.xticks([1,2],(\"Unchunked\", \"Chunked\"))\n",
    "plt.title(\"Average Amount of Correct Numbers, Chunked vs Unchunked\")\n",
    "plt.ylabel(\"Avg # of Correct Numbers\")\n",
    "plt.savefig(\"chunk2bargraph.png\")\n",
    "plt.show()"
   ]
  },
  {
   "cell_type": "code",
   "execution_count": null,
   "metadata": {
    "collapsed": true,
    "deletable": true,
    "editable": true
   },
   "outputs": [],
   "source": []
  },
  {
   "cell_type": "code",
   "execution_count": null,
   "metadata": {
    "collapsed": true,
    "deletable": true,
    "editable": true
   },
   "outputs": [],
   "source": []
  }
 ],
 "metadata": {
  "kernelspec": {
   "display_name": "Python 3",
   "language": "python",
   "name": "python3"
  },
  "language_info": {
   "codemirror_mode": {
    "name": "ipython",
    "version": 3
   },
   "file_extension": ".py",
   "mimetype": "text/x-python",
   "name": "python",
   "nbconvert_exporter": "python",
   "pygments_lexer": "ipython3",
   "version": "3.5.2"
  }
 },
 "nbformat": 4,
 "nbformat_minor": 2
}
