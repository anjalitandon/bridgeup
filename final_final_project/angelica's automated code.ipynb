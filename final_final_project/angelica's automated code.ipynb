{
 "cells": [
  {
   "cell_type": "code",
   "execution_count": 1,
   "metadata": {
    "collapsed": true,
    "deletable": true,
    "editable": true
   },
   "outputs": [],
   "source": [
    "name_list = []\n",
    "unchunked_list = []\n",
    "unchunked_correct = []\n",
    "chunked_list = []\n",
    "chunked_correct = []"
   ]
  },
  {
   "cell_type": "code",
   "execution_count": 30,
   "metadata": {
    "collapsed": true,
    "deletable": true,
    "editable": true
   },
   "outputs": [],
   "source": [
    "import pandas as pd\n",
    "import random\n",
    "import time\n",
    "import sys\n",
    "\n",
    "\n",
    "\n",
    "# This prints out the random random numbers, chunked or unchunked\n",
    "def random_nums(amount_nums, chunk_size):\n",
    "    num_string = \"\"\n",
    "    chunked = []\n",
    "    for i in range(0, amount_nums):\n",
    "        num_string += str(random.randrange(10))\n",
    "    if chunk_size <= 1:\n",
    "        return num_string\n",
    "    elif chunk_size >= 2:\n",
    "        for x in range(0, len(num_string), chunk_size):\n",
    "            chunked.append(num_string[x:x+chunk_size])\n",
    "    return chunked\n",
    "\n",
    "\n",
    "# This checks the amount of differences between the actual random number\n",
    "# and the the number people remember \n",
    "def differences_2(file1):\n",
    "    file1 = \"\".join(file1)\n",
    "    c = 0\n",
    "    file2 = input(\"Please enter the numbers you remember with no spaces.\")\n",
    "    for i in range (0, len(file2)):\n",
    "        if file1[i] == file2[i]:\n",
    "            c += 1\n",
    "    return c\n",
    "\n",
    "\n",
    "# This calls the above function that compares the 2 sequnces of numbers for unchunked\n",
    "def function1(var1):\n",
    "    unchunked_amount_correct = (differences_2(var1))\n",
    "    print(unchunked_amount_correct)\n",
    "    unchunked_correct.append(unchunked_amount_correct)\n",
    "\n",
    "\n",
    "# This calls the above function that compares the 2 sequnces of numbers for chunked\n",
    "def function2(var2):\n",
    "    chunked_amount_correct = (differences_2(var2))\n",
    "    print(chunked_amount_correct)\n",
    "    chunked_correct.append(chunked_amount_correct)\n",
    "    \n",
    "# This helps to erase the previous line\n",
    "def restart_line():\n",
    "    sys.stdout.write('\\r')\n",
    "    sys.stdout.flush()\n",
    "\n",
    "\n",
    "\n",
    "# This funcion actually does the work\n",
    "def all_in_one(amount_nums, chunk_size):\n",
    "\n",
    "    name = input(\"What is your name?\")\n",
    "    name_list.append(name)\n",
    "    \n",
    "    \n",
    "    unchunked_num = (random_nums(amount_nums, 0))\n",
    "    unchunked_list.append(unchunked_num)\n",
    "    sys.stdout.write(unchunked_num)\n",
    "\n",
    "    \n",
    "    sys.stdout.flush()\n",
    "    time.sleep(15)\n",
    "    restart_line()\n",
    "    sys.stdout.write(\"                                   \\n\")\n",
    "    sys.stdout.flush()\n",
    "    function1(unchunked_num)\n",
    "   \n",
    "    \n",
    "    chunked_num = (random_nums(amount_nums, chunk_size))\n",
    "    chunked_list.append(chunked_num)  \n",
    "    sys.stdout.write(\" \".join(chunked_num))\n",
    "    \n",
    "    sys.stdout.flush()\n",
    "    time.sleep(15)\n",
    "    restart_line()\n",
    "    sys.stdout.write(\"                                                    \\n\")\n",
    "    sys.stdout.flush()\n",
    "    function2(chunked_num)"
   ]
  },
  {
   "cell_type": "code",
   "execution_count": 4,
   "metadata": {
    "collapsed": false,
    "deletable": true,
    "editable": true
   },
   "outputs": [
    {
     "name": "stdout",
     "output_type": "stream",
     "text": [
      "What is your name?anjali\n",
      "                                   \n",
      "Please enter the numbers you remember with no spaces.314948822\n",
      "9\n",
      "                                                    \n",
      "Please enter the numbers you remember with no spaces.2537366018\n",
      "9\n"
     ]
    }
   ],
   "source": [
    "all_in_one(35, 2)\n"
   ]
  }
 ],
 "metadata": {
  "kernelspec": {
   "display_name": "Python 3",
   "language": "python",
   "name": "python3"
  },
  "language_info": {
   "codemirror_mode": {
    "name": "ipython",
    "version": 3
   },
   "file_extension": ".py",
   "mimetype": "text/x-python",
   "name": "python",
   "nbconvert_exporter": "python",
   "pygments_lexer": "ipython3",
   "version": "3.5.2"
  }
 },
 "nbformat": 4,
 "nbformat_minor": 2
}
