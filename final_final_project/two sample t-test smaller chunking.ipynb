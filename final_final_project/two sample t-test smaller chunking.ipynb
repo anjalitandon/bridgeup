{
 "cells": [
  {
   "cell_type": "code",
   "execution_count": 32,
   "metadata": {
    "collapsed": false,
    "deletable": true,
    "editable": true
   },
   "outputs": [],
   "source": [
    "import pandas as pd\n",
    "import matplotlib.pyplot as plt"
   ]
  },
  {
   "cell_type": "code",
   "execution_count": 33,
   "metadata": {
    "collapsed": false,
    "deletable": true,
    "editable": true
   },
   "outputs": [],
   "source": [
    "df = pd.read_csv(\"nummemdata.csv\")"
   ]
  },
  {
   "cell_type": "code",
   "execution_count": 34,
   "metadata": {
    "collapsed": false,
    "deletable": true,
    "editable": true
   },
   "outputs": [
    {
     "data": {
      "text/html": [
       "<div>\n",
       "<style>\n",
       "    .dataframe thead tr:only-child th {\n",
       "        text-align: right;\n",
       "    }\n",
       "\n",
       "    .dataframe thead th {\n",
       "        text-align: left;\n",
       "    }\n",
       "\n",
       "    .dataframe tbody tr th {\n",
       "        vertical-align: top;\n",
       "    }\n",
       "</style>\n",
       "<table border=\"1\" class=\"dataframe\">\n",
       "  <thead>\n",
       "    <tr style=\"text-align: right;\">\n",
       "      <th></th>\n",
       "      <th>Name</th>\n",
       "      <th>Unchunk #</th>\n",
       "      <th># Correct (UC)</th>\n",
       "      <th>Chunk #</th>\n",
       "      <th># Correct (C)</th>\n",
       "    </tr>\n",
       "  </thead>\n",
       "  <tbody>\n",
       "    <tr>\n",
       "      <th>0</th>\n",
       "      <td>Alexis</td>\n",
       "      <td>19310464424530224615625607504869210</td>\n",
       "      <td>9</td>\n",
       "      <td>[09, 47, 16, 16, 17, 96, 71, 74, 94, 86, 79, 4...</td>\n",
       "      <td>9</td>\n",
       "    </tr>\n",
       "    <tr>\n",
       "      <th>1</th>\n",
       "      <td>Angelica</td>\n",
       "      <td>367490978713288505090307726688850986</td>\n",
       "      <td>2</td>\n",
       "      <td>72 55 82 49 69 31 15 09 03 74 40 58 02 58 93 9...</td>\n",
       "      <td>4</td>\n",
       "    </tr>\n",
       "    <tr>\n",
       "      <th>2</th>\n",
       "      <td>Anjali</td>\n",
       "      <td>711098922118864084845860067937245930</td>\n",
       "      <td>11</td>\n",
       "      <td>06 13 53 66 46 22 16 28 22 57 09 99 29 93 70 8...</td>\n",
       "      <td>9</td>\n",
       "    </tr>\n",
       "    <tr>\n",
       "      <th>3</th>\n",
       "      <td>Ariana</td>\n",
       "      <td>796250220443549497520217691245153068</td>\n",
       "      <td>7</td>\n",
       "      <td>92 27 65 93 49 61 66 29 27 68 37 66 88 84 40 3...</td>\n",
       "      <td>3</td>\n",
       "    </tr>\n",
       "    <tr>\n",
       "      <th>4</th>\n",
       "      <td>Avery</td>\n",
       "      <td>872147553626006227694057883492343668</td>\n",
       "      <td>9</td>\n",
       "      <td>97 25 82 22 64 12 07 85 00 00 46 51 52 65 48 5...</td>\n",
       "      <td>5</td>\n",
       "    </tr>\n",
       "  </tbody>\n",
       "</table>\n",
       "</div>"
      ],
      "text/plain": [
       "       Name                             Unchunk #  # Correct (UC)  \\\n",
       "0    Alexis   19310464424530224615625607504869210               9   \n",
       "1  Angelica  367490978713288505090307726688850986               2   \n",
       "2    Anjali  711098922118864084845860067937245930              11   \n",
       "3    Ariana  796250220443549497520217691245153068               7   \n",
       "4     Avery  872147553626006227694057883492343668               9   \n",
       "\n",
       "                                             Chunk #  # Correct (C)  \n",
       "0  [09, 47, 16, 16, 17, 96, 71, 74, 94, 86, 79, 4...              9  \n",
       "1  72 55 82 49 69 31 15 09 03 74 40 58 02 58 93 9...              4  \n",
       "2  06 13 53 66 46 22 16 28 22 57 09 99 29 93 70 8...              9  \n",
       "3  92 27 65 93 49 61 66 29 27 68 37 66 88 84 40 3...              3  \n",
       "4  97 25 82 22 64 12 07 85 00 00 46 51 52 65 48 5...              5  "
      ]
     },
     "execution_count": 34,
     "metadata": {},
     "output_type": "execute_result"
    }
   ],
   "source": [
    "df.head()"
   ]
  },
  {
   "cell_type": "code",
   "execution_count": 35,
   "metadata": {
    "collapsed": false,
    "deletable": true,
    "editable": true
   },
   "outputs": [],
   "source": [
    "unchunk = df[\"# Correct (UC)\"]\n",
    "chunk = df[\"# Correct (C)\"]"
   ]
  },
  {
   "cell_type": "code",
   "execution_count": 36,
   "metadata": {
    "collapsed": false,
    "deletable": true,
    "editable": true
   },
   "outputs": [
    {
     "name": "stdout",
     "output_type": "stream",
     "text": [
      "Ttest_indResult(statistic=-1.1524181176349486, pvalue=0.25718784702387743)\n"
     ]
    }
   ],
   "source": [
    "from scipy import stats\n",
    "print(stats.ttest_ind(chunk, unchunk))"
   ]
  },
  {
   "cell_type": "code",
   "execution_count": null,
   "metadata": {
    "collapsed": true,
    "deletable": true,
    "editable": true
   },
   "outputs": [],
   "source": []
  }
 ],
 "metadata": {
  "kernelspec": {
   "display_name": "Python 3",
   "language": "python",
   "name": "python3"
  },
  "language_info": {
   "codemirror_mode": {
    "name": "ipython",
    "version": 3
   },
   "file_extension": ".py",
   "mimetype": "text/x-python",
   "name": "python",
   "nbconvert_exporter": "python",
   "pygments_lexer": "ipython3",
   "version": "3.5.2"
  }
 },
 "nbformat": 4,
 "nbformat_minor": 2
}
