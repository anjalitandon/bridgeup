{
 "cells": [
  {
   "cell_type": "code",
   "execution_count": 2,
   "metadata": {
    "collapsed": true,
    "deletable": true,
    "editable": true
   },
   "outputs": [],
   "source": [
    "import pandas as pd\n",
    "import matplotlib.pyplot as plt\n",
    "import numpy as np"
   ]
  },
  {
   "cell_type": "code",
   "execution_count": 3,
   "metadata": {
    "collapsed": true,
    "deletable": true,
    "editable": true
   },
   "outputs": [],
   "source": [
    "df = pd.read_csv(\"results.csv\")"
   ]
  },
  {
   "cell_type": "code",
   "execution_count": 4,
   "metadata": {
    "collapsed": false,
    "deletable": true,
    "editable": true
   },
   "outputs": [
    {
     "data": {
      "text/html": [
       "<div>\n",
       "<style>\n",
       "    .dataframe thead tr:only-child th {\n",
       "        text-align: right;\n",
       "    }\n",
       "\n",
       "    .dataframe thead th {\n",
       "        text-align: left;\n",
       "    }\n",
       "\n",
       "    .dataframe tbody tr th {\n",
       "        vertical-align: top;\n",
       "    }\n",
       "</style>\n",
       "<table border=\"1\" class=\"dataframe\">\n",
       "  <thead>\n",
       "    <tr style=\"text-align: right;\">\n",
       "      <th></th>\n",
       "      <th>Name</th>\n",
       "      <th>Unchunk #</th>\n",
       "      <th># Correct (UC)</th>\n",
       "      <th>Chunk #</th>\n",
       "      <th># Correct (C)</th>\n",
       "    </tr>\n",
       "  </thead>\n",
       "  <tbody>\n",
       "    <tr>\n",
       "      <th>0</th>\n",
       "      <td>Alexis</td>\n",
       "      <td>17297907390238149226414802872582839</td>\n",
       "      <td>5</td>\n",
       "      <td>10611 12312 93085 55605 10581 81454 25792'</td>\n",
       "      <td>10</td>\n",
       "    </tr>\n",
       "    <tr>\n",
       "      <th>1</th>\n",
       "      <td>Angelica</td>\n",
       "      <td>59295948629770291220106005306959668</td>\n",
       "      <td>6</td>\n",
       "      <td>26772 88425 58101 80348 61248 87767 52764</td>\n",
       "      <td>10</td>\n",
       "    </tr>\n",
       "    <tr>\n",
       "      <th>2</th>\n",
       "      <td>Anjali</td>\n",
       "      <td>56334420779787820951725598872575781</td>\n",
       "      <td>4</td>\n",
       "      <td>10182 13351 48203 27047 01205 86256 37184</td>\n",
       "      <td>11</td>\n",
       "    </tr>\n",
       "    <tr>\n",
       "      <th>3</th>\n",
       "      <td>Ariana</td>\n",
       "      <td>82218343732245991093852425971664767</td>\n",
       "      <td>4</td>\n",
       "      <td>37920 25089 25793 89070 97024 00241 98989</td>\n",
       "      <td>6</td>\n",
       "    </tr>\n",
       "    <tr>\n",
       "      <th>4</th>\n",
       "      <td>Avery</td>\n",
       "      <td>05596400928662988889364570084697837</td>\n",
       "      <td>4</td>\n",
       "      <td>11062 11557 31562 12302 84012 50533 94514</td>\n",
       "      <td>1</td>\n",
       "    </tr>\n",
       "  </tbody>\n",
       "</table>\n",
       "</div>"
      ],
      "text/plain": [
       "       Name                            Unchunk #  # Correct (UC)  \\\n",
       "0    Alexis  17297907390238149226414802872582839               5   \n",
       "1  Angelica  59295948629770291220106005306959668               6   \n",
       "2    Anjali  56334420779787820951725598872575781               4   \n",
       "3    Ariana  82218343732245991093852425971664767               4   \n",
       "4     Avery  05596400928662988889364570084697837               4   \n",
       "\n",
       "                                      Chunk #  # Correct (C)  \n",
       "0  10611 12312 93085 55605 10581 81454 25792'             10  \n",
       "1   26772 88425 58101 80348 61248 87767 52764             10  \n",
       "2   10182 13351 48203 27047 01205 86256 37184             11  \n",
       "3   37920 25089 25793 89070 97024 00241 98989              6  \n",
       "4   11062 11557 31562 12302 84012 50533 94514              1  "
      ]
     },
     "execution_count": 4,
     "metadata": {},
     "output_type": "execute_result"
    }
   ],
   "source": [
    "df.head()"
   ]
  },
  {
   "cell_type": "code",
   "execution_count": 5,
   "metadata": {
    "collapsed": true,
    "deletable": true,
    "editable": true
   },
   "outputs": [],
   "source": [
    "unchunk = df[\"# Correct (UC)\"]\n",
    "chunk = df[\"# Correct (C)\"]"
   ]
  },
  {
   "cell_type": "code",
   "execution_count": 6,
   "metadata": {
    "collapsed": false,
    "deletable": true,
    "editable": true
   },
   "outputs": [],
   "source": [
    "def myFunc(arg1, arg2):\n",
    "    amount = 20\n",
    "    unchunk_wins = 0\n",
    "    chunk_wins = 0\n",
    "    equality = 0\n",
    "    for i, item in enumerate(arg1):\n",
    "        if arg2[i] > item:\n",
    "            unchunk_wins += 1.0 / amount\n",
    "        elif arg2[i] < item:\n",
    "            chunk_wins += 1.0 / amount\n",
    "        else:\n",
    "            equality += 1.0 / amount\n",
    "    return unchunk_wins \n",
    "    return chunk_wins\n",
    "    return equality\n",
    "\n",
    "unchunk_num = myFunc(unchunk, chunk)\n",
    "chunk_num = myFunc(chunk, unchunk)"
   ]
  },
  {
   "cell_type": "code",
   "execution_count": 19,
   "metadata": {
    "collapsed": false,
    "deletable": true,
    "editable": true
   },
   "outputs": [
    {
     "data": {
      "image/png": "[encoded data removed]",
      "text/plain": [
       "<matplotlib.figure.Figure at 0x11e265a58>"
      ]
     },
     "metadata": {},
     "output_type": "display_data"
    }
   ],
   "source": [
    "fracs = [chunk_num, unchunk_num]\n",
    "labels = [\"Chunked\", \"Unchunked\"]\n",
    "colors = [\"lavender\", \"skyblue\"]\n",
    "plt.pie(fracs, labels = labels, colors = colors, autopct = '%1.1f%%', shadow = True)\n",
    "plt.title(\"Percentage of Numbers Correct, Chunked vs Unchunked\")\n",
    "plt.axis(\"equal\")\n",
    "plt.savefig(\"chunk5piechart.png\")\n",
    "plt.show()"
   ]
  },
  {
   "cell_type": "code",
   "execution_count": null,
   "metadata": {
    "collapsed": true,
    "deletable": true,
    "editable": true
   },
   "outputs": [],
   "source": []
  },
  {
   "cell_type": "code",
   "execution_count": 22,
   "metadata": {
    "collapsed": false,
    "deletable": true,
    "editable": true
   },
   "outputs": [
    {
     "data": {
      "image/png": "[encoded data removed]",
      "text/plain": [
       "<matplotlib.figure.Figure at 0x11e53ffd0>"
      ]
     },
     "metadata": {},
     "output_type": "display_data"
    }
   ],
   "source": [
    "data = [chunk, unchunk]\n",
    "plt.boxplot(data, whis = max(chunk), widths = 0.4) # whis is whiskers which are those little dashes at the top and bottom of the lines\n",
    "plt.title(\"Variation in the Amount of Correct Numbers\")\n",
    "plt.ylabel(\"Number of Correct Answers\")\n",
    "plt.xticks([1,2],(\"Chunked\", \"Unchunked\"))\n",
    "plt.savefig(\"chunk5boxplot.png\")\n",
    "plt.show()"
   ]
  },
  {
   "cell_type": "code",
   "execution_count": 21,
   "metadata": {
    "collapsed": false,
    "deletable": true,
    "editable": true
   },
   "outputs": [],
   "source": [
    "# try playing around with np.meshgrid"
   ]
  },
  {
   "cell_type": "code",
   "execution_count": null,
   "metadata": {
    "collapsed": true
   },
   "outputs": [],
   "source": []
  }
 ],
 "metadata": {
  "kernelspec": {
   "display_name": "Python 3",
   "language": "python",
   "name": "python3"
  },
  "language_info": {
   "codemirror_mode": {
    "name": "ipython",
    "version": 3
   },
   "file_extension": ".py",
   "mimetype": "text/x-python",
   "name": "python",
   "nbconvert_exporter": "python",
   "pygments_lexer": "ipython3",
   "version": "3.5.2"
  }
 },
 "nbformat": 4,
 "nbformat_minor": 2
}
