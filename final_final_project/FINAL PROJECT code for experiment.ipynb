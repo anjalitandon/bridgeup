{
 "cells": [
  {
   "cell_type": "code",
   "execution_count": 1,
   "metadata": {
    "collapsed": true
   },
   "outputs": [],
   "source": [
    "import random"
   ]
  },
  {
   "cell_type": "code",
   "execution_count": 2,
   "metadata": {
    "collapsed": false
   },
   "outputs": [
    {
     "data": {
      "text/plain": [
       "'def randomNum(rangeofnum):\\n    print(random.randrange(rangeofnum))\\nrandomNum(11)\\n\\ndef numrandomnum(previousfunc):\\n    print(previousfunc*50)\\n\\nnumrandomnum(randomNum(11))'"
      ]
     },
     "execution_count": 2,
     "metadata": {},
     "output_type": "execute_result"
    }
   ],
   "source": [
    "'''def randomNum(rangeofnum):\n",
    "    print(random.randrange(rangeofnum))\n",
    "randomNum(11)\n",
    "\n",
    "def numrandomnum(previousfunc):\n",
    "    print(previousfunc*50)\n",
    "\n",
    "numrandomnum(randomNum(11))'''"
   ]
  },
  {
   "cell_type": "code",
   "execution_count": 3,
   "metadata": {
    "collapsed": true
   },
   "outputs": [],
   "source": [
    "def randomNum(numofnum):\n",
    "    arbitrarynum = \"\"\n",
    "    for num in range(0, numofnum):\n",
    "# ^^ still a tad confused as to why range(0, numofnum (the numofnum part is confusing me)) \n",
    "# but essentially the range of the actual arbrtrary number is 0 to whatever number you put in for numofnum\n",
    "# in this case its 35 which means that for each number in this super long number the code runs so that the comp\n",
    "# reads each digit and for each one it adds a single digit number in the form of a string\n",
    "# so that the final arbitrary number is 35 digit long number of single digit numbers\n",
    "        arbitrarynum += str(random.randrange(10))\n",
    "    return(arbitrarynum)"
   ]
  },
  {
   "cell_type": "code",
   "execution_count": 4,
   "metadata": {
    "collapsed": false
   },
   "outputs": [
    {
     "data": {
      "text/plain": [
       "'22410034941001080614880193773670521'"
      ]
     },
     "execution_count": 4,
     "metadata": {},
     "output_type": "execute_result"
    }
   ],
   "source": [
    "randomNum(35)"
   ]
  },
  {
   "cell_type": "code",
   "execution_count": 5,
   "metadata": {
    "collapsed": false
   },
   "outputs": [
    {
     "name": "stdout",
     "output_type": "stream",
     "text": [
      "54\n",
      "[54, 23]\n"
     ]
    }
   ],
   "source": [
    "my_list = [2143, 54, 23, 81]\n",
    "print(my_list[1])\n",
    "print(my_list[1:3])\n",
    "# ^^ this is called slicing it helps you choose a specific subset of a list\n",
    "# what you'll see here is that the slice always starts at the first number (1 in the 1-3) you put (54)\n",
    "# and finishes at the number before the second number (second number = 3 in the 1-3) you put\n",
    "# (thats why it prints the third number (23) rather than the fourth number (81))"
   ]
  },
  {
   "cell_type": "code",
   "execution_count": 6,
   "metadata": {
    "collapsed": false
   },
   "outputs": [
    {
     "name": "stdout",
     "output_type": "stream",
     "text": [
      "['22097', '60967', '74518', '79294', '74497', '89377', '40259']\n",
      "7\n"
     ]
    }
   ],
   "source": [
    "def RANDnum(numofnum, chunking): # i understand\n",
    "    randomnum = \"\" # i understand\n",
    "    chunked = [] # i understand\n",
    "    for num in range(0, numofnum): # i understand\n",
    "        randomnum += str(random.randrange(10)) # i understand\n",
    "    if chunking == \"unchunk\": # i understand\n",
    "            return randomnum # i understand\n",
    "    elif chunking == \"chunk\": # i understand\n",
    "            for x in range(0, len(randomnum), 5): # WHAT THE HECKING HECK IS THIS \n",
    "                                                # (only really confused about x even though i know its a temp variable)\n",
    "                chunked.append(randomnum[x:x+5]) # i understand - ish\n",
    "                                                # the x is still slightly confusing me\n",
    "                                                # but i understand why it has to be the first number\n",
    "                                                # and then that number + 5 so that each chunk is 5 numbers long\n",
    "    return chunked # i understand\n",
    "            \n",
    "print(RANDnum(35, \"chunk\"))\n",
    "print(len(RANDnum(35, \"chunk\")))"
   ]
  },
  {
   "cell_type": "code",
   "execution_count": 21,
   "metadata": {
    "collapsed": false
   },
   "outputs": [
    {
     "name": "stdout",
     "output_type": "stream",
     "text": [
      "what's your name: asdf\n",
      "how are you doing today asdf?: bad\n",
      "same\n"
     ]
    }
   ],
   "source": [
    "name = input(\"what's your name: \")\n",
    "mood = input(\"how are you doing today \" + name + \"?: \")\n",
    "if mood == \"bad\":\n",
    "    print(\"same\")"
   ]
  },
  {
   "cell_type": "code",
   "execution_count": 55,
   "metadata": {
    "collapsed": false
   },
   "outputs": [
    {
     "name": "stdout",
     "output_type": "stream",
     "text": [
      "['73679', '15333', '92901', '29321', '38045', '53069', '65296']\n",
      "enter the number (with no spaces): 12345678901234567890123456789012345\n"
     ]
    },
    {
     "data": {
      "text/plain": [
       "4"
      ]
     },
     "execution_count": 55,
     "metadata": {},
     "output_type": "execute_result"
    }
   ],
   "source": [
    "def funkyfuncforchunks(testnum):\n",
    "    testnum = ''.join(testnum) # converts list to string\n",
    "    resultnum = input(\"enter the number (with no spaces): \")\n",
    "    correct_num = 0\n",
    "    for i, number in enumerate(testnum):\n",
    "        if resultnum[i] == number:\n",
    "            correct_num += 1\n",
    "    return correct_num\n",
    "\n",
    "print(RANDnum(35, \"chunk\"))\n",
    "funkyfuncforchunks(RANDnum(35, \"chunk\"))"
   ]
  },
  {
   "cell_type": "code",
   "execution_count": 62,
   "metadata": {
    "collapsed": false
   },
   "outputs": [
    {
     "name": "stdout",
     "output_type": "stream",
     "text": [
      "18111652155919080788776296925626408\n",
      "enter the number (with no spaces): 12345678901234567890123456789012345\n"
     ]
    },
    {
     "data": {
      "text/plain": [
       "0"
      ]
     },
     "execution_count": 62,
     "metadata": {},
     "output_type": "execute_result"
    }
   ],
   "source": [
    "def funkyfuncforunchunks(testnum):\n",
    "    testnum = ''.join(testnum) # converts list to string\n",
    "    resultnum = input(\"enter the number (with no spaces): \")\n",
    "    correct_num = 0\n",
    "    for i, number in enumerate(testnum):\n",
    "        if resultnum[i] == number:\n",
    "            correct_num += 1\n",
    "    return correct_num\n",
    "\n",
    "print(RANDnum(35, \"unchunk\"))\n",
    "funkyfuncforunchunks(RANDnum(35, \"unchunk\"))"
   ]
  },
  {
   "cell_type": "code",
   "execution_count": 66,
   "metadata": {
    "collapsed": false
   },
   "outputs": [
    {
     "name": "stdout",
     "output_type": "stream",
     "text": [
      "enter the number (with no spaces): 12345678901234567890123456789012345\n"
     ]
    },
    {
     "data": {
      "text/plain": [
       "1"
      ]
     },
     "execution_count": 66,
     "metadata": {},
     "output_type": "execute_result"
    }
   ],
   "source": [
    "# FINAL FUNCTION FOR COMPARING THE TEST AND RESULT NUMBERS\n",
    "def correctFunc(testnum):\n",
    "    testnum = ''.join(testnum) # converts list to string\n",
    "    resultnum = input(\"enter the number (with no spaces): \")\n",
    "    correct_num = 0\n",
    "    for i, number in enumerate(testnum):\n",
    "        if resultnum[i] == number:\n",
    "            correct_num += 1\n",
    "    return correct_num\n",
    "\n",
    "correctFunc(RANDnum(35, \"chunk\"))"
   ]
  },
  {
   "cell_type": "code",
   "execution_count": null,
   "metadata": {
    "collapsed": true
   },
   "outputs": [],
   "source": []
  }
 ],
 "metadata": {
  "kernelspec": {
   "display_name": "Python 3",
   "language": "python",
   "name": "python3"
  },
  "language_info": {
   "codemirror_mode": {
    "name": "ipython",
    "version": 3
   },
   "file_extension": ".py",
   "mimetype": "text/x-python",
   "name": "python",
   "nbconvert_exporter": "python",
   "pygments_lexer": "ipython3",
   "version": "3.5.2"
  }
 },
 "nbformat": 4,
 "nbformat_minor": 2
}
