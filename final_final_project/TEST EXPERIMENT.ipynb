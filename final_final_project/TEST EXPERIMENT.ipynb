{
 "cells": [
  {
   "cell_type": "code",
   "execution_count": null,
   "metadata": {
    "collapsed": true,
    "deletable": true,
    "editable": true
   },
   "outputs": [],
   "source": [
    "import random\n",
    "import pandas"
   ]
  },
  {
   "cell_type": "code",
   "execution_count": null,
   "metadata": {
    "collapsed": true,
    "deletable": true,
    "editable": true
   },
   "outputs": [],
   "source": [
    "names = []\n",
    "chunked_num = []\n",
    "unchunked_num = []\n",
    "chunked_correct = []\n",
    "unchunked_correct = []"
   ]
  },
  {
   "cell_type": "code",
   "execution_count": null,
   "metadata": {
    "collapsed": false,
    "deletable": true,
    "editable": true
   },
   "outputs": [],
   "source": [
    "name = input(\"what's your name? \")\n",
    "names.append(name)"
   ]
  },
  {
   "cell_type": "code",
   "execution_count": null,
   "metadata": {
    "collapsed": false,
    "deletable": true,
    "editable": true
   },
   "outputs": [],
   "source": [
    "def RANDnum(numofnum, chunking):\n",
    "    randomnum = \"\"\n",
    "    chunked = []\n",
    "    for num in range(0, numofnum):\n",
    "        randomnum += str(random.randrange(10))\n",
    "    if chunking == \"unchunk\":\n",
    "        unchunked_num.append(randomnum)\n",
    "        return randomnum\n",
    "    elif chunking == \"chunk\":\n",
    "        for x in range(0, len(randomnum), 5):\n",
    "            chunked.append(randomnum[x:x+5])\n",
    "    return chunked\n",
    "            \n",
    "random_unchunk = (RANDnum(35, \"unchunk\"))\n",
    "print(random_unchunk)"
   ]
  },
  {
   "cell_type": "code",
   "execution_count": null,
   "metadata": {
    "collapsed": true,
    "deletable": true,
    "editable": true
   },
   "outputs": [],
   "source": []
  },
  {
   "cell_type": "code",
   "execution_count": null,
   "metadata": {
    "collapsed": true,
    "deletable": true,
    "editable": true
   },
   "outputs": [],
   "source": []
  },
  {
   "cell_type": "code",
   "execution_count": null,
   "metadata": {
    "collapsed": true,
    "deletable": true,
    "editable": true
   },
   "outputs": [],
   "source": []
  },
  {
   "cell_type": "code",
   "execution_count": null,
   "metadata": {
    "collapsed": true,
    "deletable": true,
    "editable": true
   },
   "outputs": [],
   "source": []
  },
  {
   "cell_type": "code",
   "execution_count": null,
   "metadata": {
    "collapsed": true,
    "deletable": true,
    "editable": true
   },
   "outputs": [],
   "source": []
  },
  {
   "cell_type": "code",
   "execution_count": null,
   "metadata": {
    "collapsed": false,
    "deletable": true,
    "editable": true
   },
   "outputs": [],
   "source": [
    "def correctFunc(testnum):\n",
    "    testnum = ''.join(testnum) # converts list to string\n",
    "    resultnum = input(\"enter the number (with no spaces): \")\n",
    "    correct_num = 0\n",
    "    for i in range (0, len(resultnum)):\n",
    "        if testnum[i] == resultnum[i]:\n",
    "            correct_num += 1\n",
    "    unchunked_correct.append(correct_num)\n",
    "    return correct_num\n",
    "\n",
    "correctFunc(random_unchunk)"
   ]
  },
  {
   "cell_type": "code",
   "execution_count": null,
   "metadata": {
    "collapsed": false,
    "deletable": true,
    "editable": true
   },
   "outputs": [],
   "source": [
    "def RANDnum(numofnum, chunking):\n",
    "    randomnum = \"\"\n",
    "    chunked = []\n",
    "    for num in range(0, numofnum):\n",
    "        randomnum += str(random.randrange(10))\n",
    "    if chunking == \"unchunk\":\n",
    "        return randomnum\n",
    "    elif chunking == \"chunk\":\n",
    "        for x in range(0, len(randomnum), 5):\n",
    "            chunked.append(randomnum[x:x+5])\n",
    "    chunked_num.append(chunked)\n",
    "    return chunked\n",
    "            \n",
    "random_chunk = (RANDnum(35, \"chunk\"))\n",
    "print(random_chunk)"
   ]
  },
  {
   "cell_type": "code",
   "execution_count": null,
   "metadata": {
    "collapsed": true,
    "deletable": true,
    "editable": true
   },
   "outputs": [],
   "source": []
  },
  {
   "cell_type": "code",
   "execution_count": null,
   "metadata": {
    "collapsed": true,
    "deletable": true,
    "editable": true
   },
   "outputs": [],
   "source": []
  },
  {
   "cell_type": "code",
   "execution_count": null,
   "metadata": {
    "collapsed": true,
    "deletable": true,
    "editable": true
   },
   "outputs": [],
   "source": []
  },
  {
   "cell_type": "code",
   "execution_count": null,
   "metadata": {
    "collapsed": true,
    "deletable": true,
    "editable": true
   },
   "outputs": [],
   "source": []
  },
  {
   "cell_type": "code",
   "execution_count": null,
   "metadata": {
    "collapsed": true,
    "deletable": true,
    "editable": true
   },
   "outputs": [],
   "source": []
  },
  {
   "cell_type": "code",
   "execution_count": null,
   "metadata": {
    "collapsed": false,
    "deletable": true,
    "editable": true
   },
   "outputs": [],
   "source": [
    "def correctFunc(testnum):\n",
    "    testnum = ''.join(testnum) # converts list to string\n",
    "    resultnum = input(\"enter the number (with no spaces): \")\n",
    "    correct_num = 0\n",
    "    for i in range (0, len(resultnum)):\n",
    "        if testnum[i] == resultnum[i]:\n",
    "            correct_num += 1\n",
    "    chunked_correct.append(correct_num)\n",
    "    return correct_num\n",
    "\n",
    "correctFunc(random_chunk)"
   ]
  },
  {
   "cell_type": "code",
   "execution_count": null,
   "metadata": {
    "collapsed": false,
    "deletable": true,
    "editable": true
   },
   "outputs": [],
   "source": [
    "print(names)\n",
    "print(chunked_num)\n",
    "print(unchunked_num)\n",
    "print(chunked_correct)\n",
    "print(unchunked_correct)"
   ]
  },
  {
   "cell_type": "code",
   "execution_count": null,
   "metadata": {
    "collapsed": false,
    "deletable": true,
    "editable": true
   },
   "outputs": [],
   "source": [
    "df = pandas.DataFrame({\"Names\":names, \"Unchunk #\":unchunked_num, \"# Correct (UC)\":unchunked_correct, \"Chunk #\":chunked_num, \"# Correct (C)\":chunked_correct})\n",
    "df = df[['Names', 'Unchunk #', '# Correct (UC)', 'Chunk #', '# Correct (C)']]"
   ]
  },
  {
   "cell_type": "code",
   "execution_count": null,
   "metadata": {
    "collapsed": false,
    "deletable": true,
    "editable": true
   },
   "outputs": [],
   "source": [
    "df.to_csv(\"data.csv\", index=False)"
   ]
  },
  {
   "cell_type": "code",
   "execution_count": null,
   "metadata": {
    "collapsed": true,
    "deletable": true,
    "editable": true
   },
   "outputs": [],
   "source": []
  }
 ],
 "metadata": {
  "kernelspec": {
   "display_name": "Python 3",
   "language": "python",
   "name": "python3"
  },
  "language_info": {
   "codemirror_mode": {
    "name": "ipython",
    "version": 3
   },
   "file_extension": ".py",
   "mimetype": "text/x-python",
   "name": "python",
   "nbconvert_exporter": "python",
   "pygments_lexer": "ipython3",
   "version": "3.5.2"
  }
 },
 "nbformat": 4,
 "nbformat_minor": 2
}
