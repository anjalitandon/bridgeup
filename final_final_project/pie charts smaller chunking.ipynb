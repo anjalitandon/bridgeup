{
 "cells": [
  {
   "cell_type": "code",
   "execution_count": 10,
   "metadata": {
    "collapsed": true,
    "deletable": true,
    "editable": true
   },
   "outputs": [],
   "source": [
    "import pandas as pd\n",
    "import matplotlib.pyplot as plt\n",
    "import numpy as np"
   ]
  },
  {
   "cell_type": "code",
   "execution_count": 11,
   "metadata": {
    "collapsed": true,
    "deletable": true,
    "editable": true
   },
   "outputs": [],
   "source": [
    "df = pd.read_csv(\"nummemdata.csv\")"
   ]
  },
  {
   "cell_type": "code",
   "execution_count": 12,
   "metadata": {
    "collapsed": false,
    "deletable": true,
    "editable": true
   },
   "outputs": [
    {
     "data": {
      "text/html": [
       "<div>\n",
       "<style>\n",
       "    .dataframe thead tr:only-child th {\n",
       "        text-align: right;\n",
       "    }\n",
       "\n",
       "    .dataframe thead th {\n",
       "        text-align: left;\n",
       "    }\n",
       "\n",
       "    .dataframe tbody tr th {\n",
       "        vertical-align: top;\n",
       "    }\n",
       "</style>\n",
       "<table border=\"1\" class=\"dataframe\">\n",
       "  <thead>\n",
       "    <tr style=\"text-align: right;\">\n",
       "      <th></th>\n",
       "      <th>Name</th>\n",
       "      <th>Unchunk #</th>\n",
       "      <th># Correct (UC)</th>\n",
       "      <th>Chunk #</th>\n",
       "      <th># Correct (C)</th>\n",
       "    </tr>\n",
       "  </thead>\n",
       "  <tbody>\n",
       "    <tr>\n",
       "      <th>0</th>\n",
       "      <td>Alexis</td>\n",
       "      <td>19310464424530224615625607504869210</td>\n",
       "      <td>9</td>\n",
       "      <td>[09, 47, 16, 16, 17, 96, 71, 74, 94, 86, 79, 4...</td>\n",
       "      <td>9</td>\n",
       "    </tr>\n",
       "    <tr>\n",
       "      <th>1</th>\n",
       "      <td>Angelica</td>\n",
       "      <td>367490978713288505090307726688850986</td>\n",
       "      <td>2</td>\n",
       "      <td>72 55 82 49 69 31 15 09 03 74 40 58 02 58 93 9...</td>\n",
       "      <td>4</td>\n",
       "    </tr>\n",
       "    <tr>\n",
       "      <th>2</th>\n",
       "      <td>Anjali</td>\n",
       "      <td>711098922118864084845860067937245930</td>\n",
       "      <td>11</td>\n",
       "      <td>06 13 53 66 46 22 16 28 22 57 09 99 29 93 70 8...</td>\n",
       "      <td>9</td>\n",
       "    </tr>\n",
       "    <tr>\n",
       "      <th>3</th>\n",
       "      <td>Ariana</td>\n",
       "      <td>796250220443549497520217691245153068</td>\n",
       "      <td>7</td>\n",
       "      <td>92 27 65 93 49 61 66 29 27 68 37 66 88 84 40 3...</td>\n",
       "      <td>3</td>\n",
       "    </tr>\n",
       "    <tr>\n",
       "      <th>4</th>\n",
       "      <td>Avery</td>\n",
       "      <td>872147553626006227694057883492343668</td>\n",
       "      <td>9</td>\n",
       "      <td>97 25 82 22 64 12 07 85 00 00 46 51 52 65 48 5...</td>\n",
       "      <td>5</td>\n",
       "    </tr>\n",
       "  </tbody>\n",
       "</table>\n",
       "</div>"
      ],
      "text/plain": [
       "       Name                             Unchunk #  # Correct (UC)  \\\n",
       "0    Alexis   19310464424530224615625607504869210               9   \n",
       "1  Angelica  367490978713288505090307726688850986               2   \n",
       "2    Anjali  711098922118864084845860067937245930              11   \n",
       "3    Ariana  796250220443549497520217691245153068               7   \n",
       "4     Avery  872147553626006227694057883492343668               9   \n",
       "\n",
       "                                             Chunk #  # Correct (C)  \n",
       "0  [09, 47, 16, 16, 17, 96, 71, 74, 94, 86, 79, 4...              9  \n",
       "1  72 55 82 49 69 31 15 09 03 74 40 58 02 58 93 9...              4  \n",
       "2  06 13 53 66 46 22 16 28 22 57 09 99 29 93 70 8...              9  \n",
       "3  92 27 65 93 49 61 66 29 27 68 37 66 88 84 40 3...              3  \n",
       "4  97 25 82 22 64 12 07 85 00 00 46 51 52 65 48 5...              5  "
      ]
     },
     "execution_count": 12,
     "metadata": {},
     "output_type": "execute_result"
    }
   ],
   "source": [
    "df.head()"
   ]
  },
  {
   "cell_type": "code",
   "execution_count": 13,
   "metadata": {
    "collapsed": true,
    "deletable": true,
    "editable": true
   },
   "outputs": [],
   "source": [
    "unchunk = df[\"# Correct (UC)\"]\n",
    "chunk = df[\"# Correct (C)\"]"
   ]
  },
  {
   "cell_type": "code",
   "execution_count": 57,
   "metadata": {
    "collapsed": false,
    "deletable": true,
    "editable": true
   },
   "outputs": [],
   "source": [
    "amount = 17\n",
    "unchunk_wins = 0\n",
    "chunk_wins = 0\n",
    "equality = 0\n",
    "for i in range(0, len(chunk)):\n",
    "    if chunk[i] > unchunk[i]:\n",
    "        unchunk_wins += 1.0 \n",
    "    elif chunk[i] < unchunk[i]:\n",
    "        chunk_wins += 1.0 \n",
    "    elif chunk[i] == unchunk[i]:\n",
    "        equality += 1.0 "
   ]
  },
  {
   "cell_type": "code",
   "execution_count": 61,
   "metadata": {
    "collapsed": false,
    "deletable": true,
    "editable": true
   },
   "outputs": [
    {
     "data": {
      "image/png": "[encoded data removed]",
      "text/plain": [
       "<matplotlib.figure.Figure at 0x11e668128>"
      ]
     },
     "metadata": {},
     "output_type": "display_data"
    }
   ],
   "source": [
    "fracs = [chunk_wins, unchunk_wins]\n",
    "labels = [\"Chunked\", \"Unchunked\"]\n",
    "colors = [\"lavender\", \"skyblue\"]\n",
    "plt.pie(fracs, labels = labels, colors = colors, autopct = '%.0f%%', shadow = True)\n",
    "plt.title(\"Percentage of Numbers Correct, Chunked vs Unchunked\")\n",
    "plt.axis(\"equal\")\n",
    "plt.savefig(\"chunk2piechart.png\")\n",
    "plt.show()"
   ]
  },
  {
   "cell_type": "code",
   "execution_count": null,
   "metadata": {
    "collapsed": true,
    "deletable": true,
    "editable": true
   },
   "outputs": [],
   "source": []
  },
  {
   "cell_type": "code",
   "execution_count": 62,
   "metadata": {
    "collapsed": false,
    "deletable": true,
    "editable": true
   },
   "outputs": [
    {
     "data": {
      "image/png": "[encoded data removed]",
      "text/plain": [
       "<matplotlib.figure.Figure at 0x11e795a90>"
      ]
     },
     "metadata": {},
     "output_type": "display_data"
    }
   ],
   "source": [
    "data = [chunk, unchunk]\n",
    "plt.boxplot(data, whis = max(chunk), widths = 0.4) # whis is whiskers which are those little dashes at the top and bottom of the lines\n",
    "plt.title(\"Variation in the Amount of Correct Numbers\")\n",
    "plt.ylabel(\"Number of Correct Answers\")\n",
    "plt.xticks([1,2],(\"Chunked\", \"Unchunked\"))\n",
    "plt.savefig(\"chunk2boxplot.png\")\n",
    "plt.show()"
   ]
  },
  {
   "cell_type": "code",
   "execution_count": 60,
   "metadata": {
    "collapsed": false,
    "deletable": true,
    "editable": true
   },
   "outputs": [],
   "source": [
    "# try playing around with np.meshgrid"
   ]
  },
  {
   "cell_type": "code",
   "execution_count": null,
   "metadata": {
    "collapsed": true,
    "deletable": true,
    "editable": true
   },
   "outputs": [],
   "source": []
  }
 ],
 "metadata": {
  "kernelspec": {
   "display_name": "Python 3",
   "language": "python",
   "name": "python3"
  },
  "language_info": {
   "codemirror_mode": {
    "name": "ipython",
    "version": 3
   },
   "file_extension": ".py",
   "mimetype": "text/x-python",
   "name": "python",
   "nbconvert_exporter": "python",
   "pygments_lexer": "ipython3",
   "version": "3.5.2"
  }
 },
 "nbformat": 4,
 "nbformat_minor": 2
}
